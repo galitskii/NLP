{
 "cells": [
  {
   "cell_type": "code",
   "execution_count": 1,
   "metadata": {},
   "outputs": [],
   "source": [
    "import mysql.connector\n",
    "from mysql.connector import Error"
   ]
  },
  {
   "cell_type": "code",
   "execution_count": 2,
   "metadata": {},
   "outputs": [],
   "source": [
    "conn = mysql.connector.connect(host='localhost', user='lexis', password='lexis', database = 'lexis')"
   ]
  },
  {
   "cell_type": "code",
   "execution_count": 228,
   "metadata": {},
   "outputs": [],
   "source": [
    "f = open(\"in.txt\", \"w\")"
   ]
  },
  {
   "cell_type": "code",
   "execution_count": 229,
   "metadata": {},
   "outputs": [
    {
     "name": "stdout",
     "output_type": "stream",
     "text": [
      "('', 'неопределено')\n",
      "('0', 'второй предложный')\n",
      "('1', 'именительный')\n",
      "('2', 'родительный')\n",
      "('3', 'дательный')\n",
      "('4', 'винительный')\n",
      "('5', 'творительный')\n",
      "('6', 'предложный')\n",
      "('7', 'звательный')\n",
      "('8', 'второй родительный')\n",
      "('9', 'второй винительный')\n"
     ]
    },
    {
     "data": {
      "text/plain": [
       "True"
      ]
     },
     "execution_count": 229,
     "metadata": {},
     "output_type": "execute_result"
    }
   ],
   "source": [
    "with conn:\n",
    "    cur = conn.cursor()\n",
    "    cur.execute(\"SELECT * FROM CASE_OF_WORD\")\n",
    "    rows = cur.fetchall()\n",
    "    f.write(str(len(rows)))\n",
    "    f.write(\"\\n\")\n",
    "    for row in rows:\n",
    "        f.write(\"{0}.{1}.\\n\".format(row[0], row[1]))\n",
    "        print(row)\n",
    "cur.close()"
   ]
  },
  {
   "cell_type": "code",
   "execution_count": 230,
   "metadata": {},
   "outputs": [],
   "source": [
    "f.close()"
   ]
  },
  {
   "cell_type": "code",
   "execution_count": 231,
   "metadata": {},
   "outputs": [],
   "source": [
    "f = open(\"in.txt\", \"r\")"
   ]
  },
  {
   "cell_type": "code",
   "execution_count": 232,
   "metadata": {},
   "outputs": [],
   "source": [
    "n = f.readline()"
   ]
  },
  {
   "cell_type": "code",
   "execution_count": 233,
   "metadata": {},
   "outputs": [
    {
     "name": "stdout",
     "output_type": "stream",
     "text": [
      "11\n",
      "\n"
     ]
    }
   ],
   "source": [
    "print(n)"
   ]
  },
  {
   "cell_type": "code",
   "execution_count": 234,
   "metadata": {},
   "outputs": [],
   "source": [
    "n = int(n)"
   ]
  },
  {
   "cell_type": "code",
   "execution_count": 235,
   "metadata": {},
   "outputs": [
    {
     "name": "stdout",
     "output_type": "stream",
     "text": [
      "['', 'неопределено', '\\n']\n",
      "['0', 'второй предложный', '\\n']\n",
      "['1', 'именительный', '\\n']\n",
      "['2', 'родительный', '\\n']\n",
      "['3', 'дательный', '\\n']\n",
      "['4', 'винительный', '\\n']\n",
      "['5', 'творительный', '\\n']\n",
      "['6', 'предложный', '\\n']\n",
      "['7', 'звательный', '\\n']\n",
      "['8', 'второй родительный', '\\n']\n",
      "['9', 'второй винительный', '\\n']\n"
     ]
    }
   ],
   "source": [
    "for i in range(n):\n",
    "    l = f.readline()\n",
    "    l = l.split('.')\n",
    "    print(l)"
   ]
  },
  {
   "cell_type": "code",
   "execution_count": 236,
   "metadata": {},
   "outputs": [],
   "source": [
    "f.close()"
   ]
  },
  {
   "cell_type": "code",
   "execution_count": 3,
   "metadata": {},
   "outputs": [],
   "source": [
    "conn.close()"
   ]
  }
 ],
 "metadata": {
  "kernelspec": {
   "display_name": "Python 3",
   "language": "python",
   "name": "python3"
  },
  "language_info": {
   "codemirror_mode": {
    "name": "ipython",
    "version": 3
   },
   "file_extension": ".py",
   "mimetype": "text/x-python",
   "name": "python",
   "nbconvert_exporter": "python",
   "pygments_lexer": "ipython3",
   "version": "3.6.4"
  }
 },
 "nbformat": 4,
 "nbformat_minor": 2
}

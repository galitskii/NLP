{
 "cells": [
  {
   "cell_type": "code",
   "execution_count": 3,
   "metadata": {},
   "outputs": [],
   "source": [
    "import cx_Oracle\n",
    "myconnection = cx_Oracle.connect('lexis/lexis@93.175.29.93/mipt')\n",
    "cur = myconnection.cursor()"
   ]
  },
  {
   "cell_type": "code",
   "execution_count": 4,
   "metadata": {},
   "outputs": [],
   "source": [
    "def space(str1):\n",
    "    str2 = \"\"\n",
    "    l = len(str1)\n",
    "    for i in range(l):\n",
    "        if str1[i] in (',', '.'):\n",
    "            str2 += \" \"\n",
    "        str2 += str1[i]\n",
    "    return str2"
   ]
  },
  {
   "cell_type": "code",
   "execution_count": 31,
   "metadata": {},
   "outputs": [
    {
     "name": "stdout",
     "output_type": "stream",
     "text": [
      "Иван любил пить , танцевать его и танцевать\n"
     ]
    }
   ],
   "source": [
    "str1 = space(\"Иван любил пить, танцевать его и танцевать\")\n",
    "print(str1)"
   ]
  },
  {
   "cell_type": "code",
   "execution_count": 32,
   "metadata": {},
   "outputs": [],
   "source": [
    "def commma(s):\n",
    "    s = s.split()\n",
    "    print(s)\n",
    "    if 'и' in s:\n",
    "        t = s.index('и')\n",
    "        left = t\n",
    "        right = t\n",
    "        if t - 1 >= 0:\n",
    "            cur.execute(\"select pos, singular, cow from words where word = '%s'\" % s[t - 1])\n",
    "            res1 = cur.fetchall()\n",
    "            res1 = list(set(res1))\n",
    "            print(res1)\n",
    "        if t + 1 < len(s):\n",
    "            cur.execute(\"select pos, singular, cow from words where word = '%s'\" % s[t + 1])\n",
    "            ress1 = cur.fetchall()\n",
    "            ress1 = list(set(ress1))\n",
    "            print(ress1)"
   ]
  },
  {
   "cell_type": "code",
   "execution_count": 33,
   "metadata": {},
   "outputs": [
    {
     "name": "stdout",
     "output_type": "stream",
     "text": [
      "['Иван', 'любил', 'пить', ',', 'танцевать', 'его', 'и', 'танцевать']\n",
      "[('2', 'N', '5'), ('2', 'N', '4'), ('2', 'N', '1'), ('2', 'Y', '3'), ('2', 'N', '6'), ('2', 'N', '2'), ('2', 'Y', '5'), ('b', 'Y', '4'), ('2', 'Y', '1'), ('2', 'N', '3'), ('2', 'Y', '6'), ('2', 'Y', '2'), ('b', 'Y', '2'), ('2', 'Y', '4')]\n",
      "[('6', ' ', ' ')]\n"
     ]
    }
   ],
   "source": [
    "commma(str1)"
   ]
  },
  {
   "cell_type": "code",
   "execution_count": 34,
   "metadata": {},
   "outputs": [],
   "source": [
    "myconnection.close()"
   ]
  }
 ],
 "metadata": {
  "kernelspec": {
   "display_name": "Python 3",
   "language": "python",
   "name": "python3"
  },
  "language_info": {
   "codemirror_mode": {
    "name": "ipython",
    "version": 3
   },
   "file_extension": ".py",
   "mimetype": "text/x-python",
   "name": "python",
   "nbconvert_exporter": "python",
   "pygments_lexer": "ipython3",
   "version": "3.6.4"
  }
 },
 "nbformat": 4,
 "nbformat_minor": 2
}

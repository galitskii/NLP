{
 "cells": [
  {
   "cell_type": "code",
   "execution_count": 31,
   "metadata": {},
   "outputs": [],
   "source": [
    "# соединение с базой\n",
    "import cx_Oracle\n",
    "myconnection = cx_Oracle.connect('lexis/lexis@93.175.29.93/mipt')\n",
    "cur = myconnection.cursor()"
   ]
  },
  {
   "cell_type": "code",
   "execution_count": 32,
   "metadata": {},
   "outputs": [],
   "source": [
    "# функция возвращает список, полученный из исходной строки путём разбиения на слова и знаки пунктуации и приведения всего \n",
    "# к нижнему регистру\n",
    "def space(str1):\n",
    "    str1 = str1.lower()\n",
    "    str2 = ''\n",
    "    for i in range(len(str1)):\n",
    "        if str1[i] in [',', '.', ';']:\n",
    "            str2 += ' '\n",
    "        str2 += str1[i]\n",
    "    if str2[len(str2) - 1] == ' ':\n",
    "        str2 = str2[:len(str2) - 1]\n",
    "    return str2.split()"
   ]
  },
  {
   "cell_type": "code",
   "execution_count": 81,
   "metadata": {},
   "outputs": [],
   "source": [
    "# функция проверяет сочетания из 4 подряд идущих слов в списке lst\n",
    "# во всех таких ситуациях exception не учитываем\n",
    "def four(lst):\n",
    "    result = []\n",
    "    for i in range(0, len(lst) - 3):\n",
    "        cur.execute(\"select pos, singular, cow from words where word = '%s'\" % lst[i])\n",
    "        res1 = cur.fetchall()\n",
    "        res1 = list(set(res1))\n",
    "        cur.execute(\"select pos, singular, cow from words where word = '%s'\" % lst[i + 1])\n",
    "        res2 = cur.fetchall()\n",
    "        res2 = list(set(res2))\n",
    "        cur.execute(\"select pos, singular, cow from words where word = '%s'\" % lst[i + 2])\n",
    "        res3 = cur.fetchall()\n",
    "        res3 = list(set(res3))\n",
    "        cur.execute(\"select pos, singular, cow from words where word = '%s'\" % lst[i + 3])\n",
    "        res4 = cur.fetchall()\n",
    "        res4 = list(set(res4))\n",
    "        for i1 in res1:\n",
    "            for i2 in res2:\n",
    "                for i3 in res3:\n",
    "                    for i4 in res4:\n",
    "                        cur.execute(\"select ans from add4_r where prt_1 = '{}' and sing_1 = '{}' and cow_1 = '{}' and prt_2 = '{}' and sing_2 = '{}' and cow_2 = '{}' and prt_3 = '{}' and sing_3 = '{}' and cow_3 = '{}' and prt_4 = '{}' and sing_4 = '{}' and cow_4 = '{}'\".format(i1[0], i1[1], i1[2], i2[0], i2[1], i2[2], i3[0], i3[1], i3[2], i4[0], i4[1], i4[2]))\n",
    "                        res = cur.fetchall()\n",
    "                        res = list(set(res))\n",
    "                        if len(res) > 0:\n",
    "                            for r in res:\n",
    "                                result.append(r[0])\n",
    "        result = list(set(result))\n",
    "        if len(result) > 0:\n",
    "            if 'N' in result:\n",
    "                print(\"OK4\", result)\n",
    "                return [\"N\"]\n",
    "        print(\"OK4\", result)\n",
    "        return result"
   ]
  },
  {
   "cell_type": "code",
   "execution_count": 70,
   "metadata": {},
   "outputs": [],
   "source": [
    "# функция проверяет сочетания из 3 подряд идущих слов в списке lst\n",
    "def three(lst):\n",
    "    result = []\n",
    "    for i in range(0, len(lst) - 2):\n",
    "            cur.execute(\"select pos, singular, cow from words where word = '%s'\" % lst[i])\n",
    "            res1 = cur.fetchall()\n",
    "            res1 = list(set(res1))\n",
    "            cur.execute(\"select pos, singular, cow from words where word = '%s'\" % lst[i + 1])\n",
    "            res2 = cur.fetchall()\n",
    "            res2 = list(set(res2))\n",
    "            cur.execute(\"select pos, singular, cow from words where word = '%s'\" % lst[i + 2])\n",
    "            res3 = cur.fetchall()\n",
    "            res3 = list(set(res3))\n",
    "            for i1 in res1:\n",
    "                for i2 in res2:\n",
    "                    for i3 in res3:\n",
    "                        cur.execute(\"select ans from add3_r where prt_1 = '{}' and sing_1 = '{}' and cow_1 = '{}' and prt_2 = '{}' and sing_2 = '{}' and cow_2 = '{}' and prt_3 = '{}' and sing_3 = '{}' and cow_3 = '{}'\".format(i1[0], i1[1], i1[2], i2[0], i2[1], i2[2],i3[0], i3[1], i3[2]))\n",
    "                        res = cur.fetchall()\n",
    "                        res = list(set(res))\n",
    "                        if len(res) > 0:\n",
    "                            for r in res:\n",
    "                                result.append(r[0])\n",
    "            result = list(set(result))\n",
    "            if len(result) > 0:\n",
    "                if 'N' in result:\n",
    "                    print(\"OK3\", result)\n",
    "                    return ['N']\n",
    "    print(\"OK3\", result)\n",
    "    return result"
   ]
  },
  {
   "cell_type": "code",
   "execution_count": 60,
   "metadata": {},
   "outputs": [],
   "source": [
    "# функция проверяет сочетания из 2 подряд идущих слов в списке lst\n",
    "def two(lst):\n",
    "    result = []\n",
    "    for q in range(len(lst) - 1):\n",
    "        ans1 = [] \n",
    "        cur.execute(\"select pos, singular, cow from words where word = '%s'\" % lst[q])\n",
    "        res_l = cur.fetchall()\n",
    "        res_l = list(set(res_l))\n",
    "\n",
    "        cur.execute(\"select pos, singular, cow from words where word = '%s'\" % lst[q + 1])\n",
    "        res_r = cur.fetchall()\n",
    "        res_r = list(set(res_r))\n",
    "        for i in res_l:\n",
    "            for j in res_r:\n",
    "                cur.execute(\"select ans, comm, ex, r_id from simple_rules where prt_l = '{}' and prt_r = '{}' and sing_l = '{}' and sing_r = '{}' and cow_l = '{}' and cow_r = '{}'\".format(i[0], j[0], i[1], j[1], i[2], j[2]))\n",
    "                res = cur.fetchall()\n",
    "                res = list(set(res))\n",
    "                if len(res) > 0:\n",
    "                    for k in res:\n",
    "                        ans1.append(k[0])\n",
    "        if 'Y' in ans1:\n",
    "            result.append('Y')\n",
    "        elif 'N' in ans1:\n",
    "            result.append('N')\n",
    "        else:\n",
    "            result.append('E')\n",
    "    print(\"ОК2\", result)\n",
    "    return result"
   ]
  },
  {
   "cell_type": "code",
   "execution_count": 82,
   "metadata": {},
   "outputs": [],
   "source": [
    "def check(l):\n",
    "    result = []\n",
    "    if 'и' in l or 'или' in l:\n",
    "        print(\"И или ИЛИ\")\n",
    "    else:\n",
    "        # если в предложении нет И или ИЛИ\n",
    "        if len(l) > 3:\n",
    "            result += four(l)\n",
    "        if len(l) > 2:\n",
    "            result += three(l)\n",
    "        if len(l) > 1:\n",
    "            result += two(l)\n",
    "        if len(l) == 1:\n",
    "            res += ['Y']    # если предложение из одного слова, оно не может быть неверным с точки зрения согласования\n",
    "                            # единственного и множественнго числа\n",
    "    print(\"OK_CHECK\", result)\n",
    "    return result"
   ]
  },
  {
   "cell_type": "code",
   "execution_count": 83,
   "metadata": {},
   "outputs": [],
   "source": [
    "def res(r):\n",
    "    if 'N' in r:\n",
    "        print(\"Ошибка в согласовании единственного и множественного числа\")\n",
    "    elif 'Y' in r:\n",
    "        print(\"Ошибок в согласовании единственного и множественного числа не обнаружено\")\n",
    "    else:\n",
    "        print(\"Есть незнакомые сочетания\")"
   ]
  },
  {
   "cell_type": "code",
   "execution_count": 84,
   "metadata": {},
   "outputs": [
    {
     "name": "stdout",
     "output_type": "stream",
     "text": [
      "OK4 ['Y']\n",
      "OK3 []\n",
      "ОК2 ['Y', 'E', 'Y']\n",
      "OK_CHECK ['Y', 'Y', 'E', 'Y']\n",
      "Ошибок в согласовании единственного и множественного числа не обнаружено\n"
     ]
    }
   ],
   "source": [
    "res(check(space(\"Игра слов нравилась мне\")))"
   ]
  },
  {
   "cell_type": "code",
   "execution_count": 2,
   "metadata": {},
   "outputs": [],
   "source": [
    "# разрыв соединения\n",
    "myconnection.close()"
   ]
  }
 ],
 "metadata": {
  "kernelspec": {
   "display_name": "Python 3",
   "language": "python",
   "name": "python3"
  },
  "language_info": {
   "codemirror_mode": {
    "name": "ipython",
    "version": 3
   },
   "file_extension": ".py",
   "mimetype": "text/x-python",
   "name": "python",
   "nbconvert_exporter": "python",
   "pygments_lexer": "ipython3",
   "version": "3.6.4"
  }
 },
 "nbformat": 4,
 "nbformat_minor": 2
}

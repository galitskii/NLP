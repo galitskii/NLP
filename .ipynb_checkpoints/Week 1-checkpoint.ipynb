{
 "cells": [
  {
   "cell_type": "markdown",
   "metadata": {},
   "source": [
    "*Работа с базой данных*"
   ]
  },
  {
   "cell_type": "code",
   "execution_count": 1,
   "metadata": {},
   "outputs": [],
   "source": [
    "# https://oracle.github.io/python-cx_Oracle/\n",
    "import cx_Oracle"
   ]
  },
  {
   "cell_type": "code",
   "execution_count": 10,
   "metadata": {},
   "outputs": [],
   "source": [
    "myconnection = cx_Oracle.connect('lexis/lexis@93.175.29.93/mipt')"
   ]
  },
  {
   "cell_type": "code",
   "execution_count": 11,
   "metadata": {},
   "outputs": [],
   "source": [
    "cur = myconnection.cursor()"
   ]
  },
  {
   "cell_type": "code",
   "execution_count": 12,
   "metadata": {},
   "outputs": [
    {
     "data": {
      "text/plain": [
       "<cx_Oracle.Cursor on <cx_Oracle.Connection to lexis@93.175.29.93/mipt>>"
      ]
     },
     "execution_count": 12,
     "metadata": {},
     "output_type": "execute_result"
    }
   ],
   "source": [
    "cur.execute(\"SELECT * FROM CASE_OF_WORD\")"
   ]
  },
  {
   "cell_type": "code",
   "execution_count": 13,
   "metadata": {},
   "outputs": [],
   "source": [
    " rows = cur.fetchall()"
   ]
  },
  {
   "cell_type": "code",
   "execution_count": 14,
   "metadata": {},
   "outputs": [
    {
     "name": "stdout",
     "output_type": "stream",
     "text": [
      "  неопределено\n",
      "1 именительный\n",
      "2 родительный\n",
      "3 дательный\n",
      "4 винительный\n",
      "5 творительный\n",
      "6 предложный\n",
      "7 звательный\n",
      "8 второй родительный\n",
      "9 второй винительный\n",
      "0 второй предложный\n"
     ]
    }
   ],
   "source": [
    "for row in rows:\n",
    "        print(\"{0} {1}\".format(row[0], row[1]))"
   ]
  },
  {
   "cell_type": "code",
   "execution_count": 15,
   "metadata": {},
   "outputs": [],
   "source": [
    "myconnection.close()"
   ]
  },
  {
   "cell_type": "markdown",
   "metadata": {},
   "source": [
    "# токенайзер"
   ]
  },
  {
   "cell_type": "code",
   "execution_count": 298,
   "metadata": {},
   "outputs": [],
   "source": [
    "import re\n",
    "split_sent = re.compile(r'[.|!|?|…]')\n",
    "split_w = re.compile('([^\\w_-]|[+])', re.U)\n",
    "\n",
    "def simple_sent_tokenize(text):\n",
    "    sent = []\n",
    "    sentences = filter(lambda t: t, [t.strip() for t in split_sent.split(text)])\n",
    "    for s in sentences:\n",
    "        sent.append(s)\n",
    "    return sent\n",
    "\n",
    "def simple_word_tokenize(text):\n",
    "    return [t for t in split_w.split(text) if t and not t.isspace() and t is not ',' and t is not '«' and t is not '»']\n",
    "\n",
    "def s_words_tokenize(text):\n",
    "    t = []\n",
    "    for i in text:\n",
    "        t.extend(simple_word_tokenize(i))\n",
    "    t = list(set(t))\n",
    "    return t"
   ]
  },
  {
   "cell_type": "code",
   "execution_count": 299,
   "metadata": {},
   "outputs": [],
   "source": [
    "text = '''Министерство иностранных дел Азербайджана заявило, что российский вертолет сбили азербайджанские военные. Это произошло «в свете напряженной обстановки в регионе и повышенной боевой готовности в связи с возможными провокациями армянской стороны», сообщило ведомство.\n",
    "\n",
    "В МИДе пояснили, что полет вертолета проходил в непосредственной близости от армяно-азербайджанской границы на фоне продолжающихся военных действий в Нагорном Карабахе. Также в Баку отметили, что вертолет летел в темное время суток и что воздушная техника ВВС России ранее не была замечена в этом районе.\n",
    "\n",
    "Азербайджан «приносит извинения российской стороне в связи с данным трагическим инцидентом, который носит характер случайности». Баку также выразил соболезнования семьям погибших и пожелал скорейшего выздоровления пострадавшему. Азербайджан?!'''"
   ]
  },
  {
   "cell_type": "code",
   "execution_count": 300,
   "metadata": {},
   "outputs": [
    {
     "name": "stdout",
     "output_type": "stream",
     "text": [
      "Министерство иностранных дел Азербайджана заявило, что российский вертолет сбили азербайджанские военные. Это произошло «в свете напряженной обстановки в регионе и повышенной боевой готовности в связи с возможными провокациями армянской стороны», сообщило ведомство.\n",
      "\n",
      "В МИДе пояснили, что полет вертолета проходил в непосредственной близости от армяно-азербайджанской границы на фоне продолжающихся военных действий в Нагорном Карабахе. Также в Баку отметили, что вертолет летел в темное время суток и что воздушная техника ВВС России ранее не была замечена в этом районе.\n",
      "\n",
      "Азербайджан «приносит извинения российской стороне в связи с данным трагическим инцидентом, который носит характер случайности». Баку также выразил соболезнования семьям погибших и пожелал скорейшего выздоровления пострадавшему. Азербайджан?!\n"
     ]
    }
   ],
   "source": [
    "print(text)"
   ]
  },
  {
   "cell_type": "code",
   "execution_count": 301,
   "metadata": {},
   "outputs": [],
   "source": [
    "text = text.lower()"
   ]
  },
  {
   "cell_type": "code",
   "execution_count": 307,
   "metadata": {},
   "outputs": [
    {
     "name": "stdout",
     "output_type": "stream",
     "text": [
      "министерство иностранных дел азербайджана заявило, что российский вертолет сбили азербайджанские военные. это произошло «в свете напряженной обстановки в регионе и повышенной боевой готовности в связи с возможными провокациями армянской стороны», сообщило ведомство.\n",
      "\n",
      "в миде пояснили, что полет вертолета проходил в непосредственной близости от армяно-азербайджанской границы на фоне продолжающихся военных действий в нагорном карабахе. также в баку отметили, что вертолет летел в темное время суток и что воздушная техника ввс россии ранее не была замечена в этом районе.\n",
      "\n",
      "азербайджан «приносит извинения российской стороне в связи с данным трагическим инцидентом, который носит характер случайности». баку также выразил соболезнования семьям погибших и пожелал скорейшего выздоровления пострадавшему. азербайджан?!\n"
     ]
    }
   ],
   "source": [
    "print(text)"
   ]
  },
  {
   "cell_type": "code",
   "execution_count": 303,
   "metadata": {
    "scrolled": true
   },
   "outputs": [],
   "source": [
    "sent = simple_sent_tokenize(text)"
   ]
  },
  {
   "cell_type": "code",
   "execution_count": 304,
   "metadata": {},
   "outputs": [
    {
     "name": "stdout",
     "output_type": "stream",
     "text": [
      "['министерство иностранных дел азербайджана заявило, что российский вертолет сбили азербайджанские военные', 'это произошло «в свете напряженной обстановки в регионе и повышенной боевой готовности в связи с возможными провокациями армянской стороны», сообщило ведомство', 'в миде пояснили, что полет вертолета проходил в непосредственной близости от армяно-азербайджанской границы на фоне продолжающихся военных действий в нагорном карабахе', 'также в баку отметили, что вертолет летел в темное время суток и что воздушная техника ввс россии ранее не была замечена в этом районе', 'азербайджан «приносит извинения российской стороне в связи с данным трагическим инцидентом, который носит характер случайности»', 'баку также выразил соболезнования семьям погибших и пожелал скорейшего выздоровления пострадавшему', 'азербайджан']\n"
     ]
    }
   ],
   "source": [
    "print(sent)"
   ]
  },
  {
   "cell_type": "code",
   "execution_count": 305,
   "metadata": {
    "scrolled": true
   },
   "outputs": [],
   "source": [
    "words = s_words_tokenize(sent)"
   ]
  },
  {
   "cell_type": "code",
   "execution_count": 308,
   "metadata": {},
   "outputs": [
    {
     "name": "stdout",
     "output_type": "stream",
     "text": [
      "['и', 'ведомство', 'армяно-азербайджанской', 'стороне', 'это', 'военных', 'пожелал', 'боевой', 'полет', 'трагическим', 'возможными', 'вертолета', 'с', 'пояснили', 'проходил', 'продолжающихся', 'действий', 'характер', 'скорейшего', 'пострадавшему', 'свете', 'техника', 'армянской', 'погибших', 'повышенной', 'была', 'соболезнования', 'отметили', 'связи', 'дел', 'вертолет', 'военные', 'суток', 'в', 'заявило', 'произошло', 'на', 'летел', 'ранее', 'провокациями', 'обстановки', 'также', 'ввс', 'инцидентом', 'который', 'данным', 'случайности', 'от', 'границы', 'приносит', 'напряженной', 'районе', 'этом', 'азербайджан', 'миде', 'фоне', 'воздушная', 'выразил', 'выздоровления', 'иностранных', 'стороны', 'российский', 'сбили', 'карабахе', 'замечена', 'извинения', 'российской', 'россии', 'носит', 'регионе', 'азербайджана', 'нагорном', 'семьям', 'сообщило', 'время', 'темное', 'не', 'министерство', 'близости', 'что', 'азербайджанские', 'непосредственной', 'готовности', 'баку']\n",
      "Количество слов в списке =  84\n"
     ]
    }
   ],
   "source": [
    "print(words)\n",
    "print(\"Количество слов в списке = \", len(words))"
   ]
  },
  {
   "cell_type": "markdown",
   "metadata": {},
   "source": [
    "# алгоритм"
   ]
  },
  {
   "cell_type": "code",
   "execution_count": 6,
   "metadata": {},
   "outputs": [],
   "source": [
    "import cx_Oracle\n"
   ]
  },
  {
   "cell_type": "code",
   "execution_count": 7,
   "metadata": {},
   "outputs": [],
   "source": [
    "myconnection = cx_Oracle.connect('lexis/lexis@93.175.29.93/mipt')"
   ]
  },
  {
   "cell_type": "code",
   "execution_count": 14,
   "metadata": {},
   "outputs": [],
   "source": [
    "cur = myconnection.cursor()"
   ]
  },
  {
   "cell_type": "code",
   "execution_count": 15,
   "metadata": {},
   "outputs": [
    {
     "data": {
      "text/plain": [
       "<cx_Oracle.Cursor on <cx_Oracle.Connection to lexis@93.175.29.93/mipt>>"
      ]
     },
     "execution_count": 15,
     "metadata": {},
     "output_type": "execute_result"
    }
   ],
   "source": [
    "cur.execute(\"SELECT * FROM new_words\")"
   ]
  },
  {
   "cell_type": "code",
   "execution_count": 18,
   "metadata": {},
   "outputs": [
    {
     "name": "stdout",
     "output_type": "stream",
     "text": [
      "<class 'cx_Oracle.Cursor'>\n"
     ]
    }
   ],
   "source": [
    "print(type(cur))"
   ]
  },
  {
   "cell_type": "code",
   "execution_count": 12,
   "metadata": {},
   "outputs": [],
   "source": [
    "rows = cur.fetchall()"
   ]
  },
  {
   "cell_type": "code",
   "execution_count": 17,
   "metadata": {},
   "outputs": [
    {
     "name": "stdout",
     "output_type": "stream",
     "text": [
      "<class 'list'>\n"
     ]
    }
   ],
   "source": [
    "print(type(rows))"
   ]
  },
  {
   "cell_type": "code",
   "execution_count": 16,
   "metadata": {},
   "outputs": [],
   "source": [
    "for row in rows:\n",
    "        print(\"{0} {1}\".format(row[0], row[1]))"
   ]
  },
  {
   "cell_type": "code",
   "execution_count": 19,
   "metadata": {},
   "outputs": [],
   "source": [
    "myconnection.close()"
   ]
  }
 ],
 "metadata": {
  "kernelspec": {
   "display_name": "Python 3",
   "language": "python",
   "name": "python3"
  },
  "language_info": {
   "codemirror_mode": {
    "name": "ipython",
    "version": 3
   },
   "file_extension": ".py",
   "mimetype": "text/x-python",
   "name": "python",
   "nbconvert_exporter": "python",
   "pygments_lexer": "ipython3",
   "version": "3.6.4"
  }
 },
 "nbformat": 4,
 "nbformat_minor": 2
}

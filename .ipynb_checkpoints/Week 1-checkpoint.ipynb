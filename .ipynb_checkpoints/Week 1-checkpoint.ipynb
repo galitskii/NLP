{
 "cells": [
  {
   "cell_type": "markdown",
   "metadata": {},
   "source": [
    "# Добавление новых слов в NEW_WORDS"
   ]
  },
  {
   "cell_type": "code",
   "execution_count": 141,
   "metadata": {},
   "outputs": [],
   "source": [
    "# https://oracle.github.io/python-cx_Oracle/\n",
    "import cx_Oracle"
   ]
  },
  {
   "cell_type": "code",
   "execution_count": 142,
   "metadata": {},
   "outputs": [],
   "source": [
    "myconnection = cx_Oracle.connect('lexis/lexis@93.175.29.93/mipt')"
   ]
  },
  {
   "cell_type": "code",
   "execution_count": 143,
   "metadata": {},
   "outputs": [],
   "source": [
    "cur = myconnection.cursor()"
   ]
  },
  {
   "cell_type": "code",
   "execution_count": 145,
   "metadata": {},
   "outputs": [
    {
     "name": "stdout",
     "output_type": "stream",
     "text": [
      "WORD_TO_PM\n",
      "WORDS\n",
      "UNDEFINED_WORDS\n",
      "TESTS\n",
      "RULES\n",
      "PROPOSAL_MEMBERS\n",
      "PART_OF_SPEECH\n",
      "NEW_WORDS\n",
      "EXCEPTIONS\n",
      "CASE_OF_WORD\n"
     ]
    }
   ],
   "source": [
    "# выводим список таблиц\n",
    "cur.execute(\"select table_name from USER_TABLES\")\n",
    "res = cur.fetchall()\n",
    "for row in res:\n",
    "        print(\"{0}\".format(row[0]))"
   ]
  },
  {
   "cell_type": "code",
   "execution_count": 147,
   "metadata": {},
   "outputs": [
    {
     "name": "stdout",
     "output_type": "stream",
     "text": [
      "SOURCE\n",
      "SENTENCE\n",
      "WORD\n"
     ]
    }
   ],
   "source": [
    "# выводим список столбцов NEW_WORDS\n",
    "cur.execute(\"select column_name from user_tab_columns where table_name = 'NEW_WORDS'\")\n",
    "res = cur.fetchall()\n",
    "for row in res:\n",
    "        print(\"{0}\".format(row[0]))"
   ]
  },
  {
   "cell_type": "code",
   "execution_count": 160,
   "metadata": {},
   "outputs": [
    {
     "name": "stdout",
     "output_type": "stream",
     "text": [
      "темное\n",
      "армяно-азербайджанской\n",
      "вертолет\n",
      "напряженной\n",
      "вертолета\n"
     ]
    }
   ],
   "source": [
    "# получаем список новых слов\n",
    "cur.execute(\"select WORD from NEW_WORDS\")\n",
    "res = cur.fetchall()\n",
    "for row in res:\n",
    "        print(\"{0}\".format(row[0]))"
   ]
  },
  {
   "cell_type": "markdown",
   "metadata": {},
   "source": [
    "## Дальше исполняем код токенайзера"
   ]
  },
  {
   "cell_type": "code",
   "execution_count": 158,
   "metadata": {},
   "outputs": [],
   "source": [
    "# проверяем, есть ли среди words новые слова. Если да, то есть ли они в new_words. Если нет, добавляем их в new_words\n",
    "for word in words:\n",
    "    cur.execute(\"select MID, WORD from WORDS where WORD = '%s'\" % word)\n",
    "    res = cur.fetchall()\n",
    "    if len(res) == 0:\n",
    "        cur.execute(\"select WORD from NEW_WORDS where WORD = '%s'\" % word)\n",
    "        res2 = cur.fetchall()\n",
    "        if len(res2) == 0:\n",
    "            cur.execute(\"insert into NEW_WORDS(WORD) values ('%s')\" % word)"
   ]
  },
  {
   "cell_type": "code",
   "execution_count": 159,
   "metadata": {},
   "outputs": [],
   "source": [
    "# сохраняем изменения\n",
    "myconnection.commit()"
   ]
  },
  {
   "cell_type": "code",
   "execution_count": 161,
   "metadata": {},
   "outputs": [],
   "source": [
    "# закрываем соединение\n",
    "myconnection.close()"
   ]
  },
  {
   "cell_type": "markdown",
   "metadata": {},
   "source": [
    "# токенайзер"
   ]
  },
  {
   "cell_type": "code",
   "execution_count": 149,
   "metadata": {},
   "outputs": [],
   "source": [
    "import re\n",
    "split_sent = re.compile(r'[.|!|?|…|?!]')\n",
    "split_w = re.compile('([^\\w_-]|[+])', re.U)\n",
    "\n",
    "def simple_sent_tokenize(text):\n",
    "    sent = []\n",
    "    sentences = filter(lambda t: t, [t.strip() for t in split_sent.split(text)])\n",
    "    for s in sentences:\n",
    "        sent.append(s)\n",
    "    return sent\n",
    "\n",
    "def simple_word_tokenize(text):\n",
    "    return [t for t in split_w.split(text) if t and not t.isspace() and t is not ',' and t is not '«' and t is not '»']\n",
    "\n",
    "def s_words_tokenize(text):\n",
    "    t = []\n",
    "    for i in text:\n",
    "        t.extend(simple_word_tokenize(i))\n",
    "    t = list(set(t))\n",
    "    return t"
   ]
  },
  {
   "cell_type": "code",
   "execution_count": 150,
   "metadata": {},
   "outputs": [],
   "source": [
    "text = '''Министерство иностранных дел Азербайджана заявило, что российский вертолет сбили азербайджанские военные. Это произошло «в свете напряженной обстановки в регионе и повышенной боевой готовности в связи с возможными провокациями армянской стороны», сообщило ведомство.\n",
    "\n",
    "В МИДе пояснили, что полет вертолета проходил в непосредственной близости от армяно-азербайджанской границы на фоне продолжающихся военных действий в Нагорном Карабахе. Также в Баку отметили, что вертолет летел в темное время суток и что воздушная техника ВВС России ранее не была замечена в этом районе.\n",
    "\n",
    "Азербайджан «приносит извинения российской стороне в связи с данным трагическим инцидентом, который носит характер случайности». Баку также выразил соболезнования семьям погибших и пожелал скорейшего выздоровления пострадавшему. Азербайджан?!'''"
   ]
  },
  {
   "cell_type": "code",
   "execution_count": 151,
   "metadata": {},
   "outputs": [
    {
     "name": "stdout",
     "output_type": "stream",
     "text": [
      "Министерство иностранных дел Азербайджана заявило, что российский вертолет сбили азербайджанские военные. Это произошло «в свете напряженной обстановки в регионе и повышенной боевой готовности в связи с возможными провокациями армянской стороны», сообщило ведомство.\n",
      "\n",
      "В МИДе пояснили, что полет вертолета проходил в непосредственной близости от армяно-азербайджанской границы на фоне продолжающихся военных действий в Нагорном Карабахе. Также в Баку отметили, что вертолет летел в темное время суток и что воздушная техника ВВС России ранее не была замечена в этом районе.\n",
      "\n",
      "Азербайджан «приносит извинения российской стороне в связи с данным трагическим инцидентом, который носит характер случайности». Баку также выразил соболезнования семьям погибших и пожелал скорейшего выздоровления пострадавшему. Азербайджан?!\n"
     ]
    }
   ],
   "source": [
    "print(text)"
   ]
  },
  {
   "cell_type": "code",
   "execution_count": 152,
   "metadata": {},
   "outputs": [],
   "source": [
    "text = text.lower()"
   ]
  },
  {
   "cell_type": "code",
   "execution_count": 153,
   "metadata": {},
   "outputs": [
    {
     "name": "stdout",
     "output_type": "stream",
     "text": [
      "министерство иностранных дел азербайджана заявило, что российский вертолет сбили азербайджанские военные. это произошло «в свете напряженной обстановки в регионе и повышенной боевой готовности в связи с возможными провокациями армянской стороны», сообщило ведомство.\n",
      "\n",
      "в миде пояснили, что полет вертолета проходил в непосредственной близости от армяно-азербайджанской границы на фоне продолжающихся военных действий в нагорном карабахе. также в баку отметили, что вертолет летел в темное время суток и что воздушная техника ввс россии ранее не была замечена в этом районе.\n",
      "\n",
      "азербайджан «приносит извинения российской стороне в связи с данным трагическим инцидентом, который носит характер случайности». баку также выразил соболезнования семьям погибших и пожелал скорейшего выздоровления пострадавшему. азербайджан?!\n"
     ]
    }
   ],
   "source": [
    "print(text)"
   ]
  },
  {
   "cell_type": "code",
   "execution_count": 154,
   "metadata": {
    "scrolled": true
   },
   "outputs": [],
   "source": [
    "sent = simple_sent_tokenize(text)"
   ]
  },
  {
   "cell_type": "code",
   "execution_count": 155,
   "metadata": {},
   "outputs": [
    {
     "name": "stdout",
     "output_type": "stream",
     "text": [
      "['министерство иностранных дел азербайджана заявило, что российский вертолет сбили азербайджанские военные', 'это произошло «в свете напряженной обстановки в регионе и повышенной боевой готовности в связи с возможными провокациями армянской стороны», сообщило ведомство', 'в миде пояснили, что полет вертолета проходил в непосредственной близости от армяно-азербайджанской границы на фоне продолжающихся военных действий в нагорном карабахе', 'также в баку отметили, что вертолет летел в темное время суток и что воздушная техника ввс россии ранее не была замечена в этом районе', 'азербайджан «приносит извинения российской стороне в связи с данным трагическим инцидентом, который носит характер случайности»', 'баку также выразил соболезнования семьям погибших и пожелал скорейшего выздоровления пострадавшему', 'азербайджан']\n"
     ]
    }
   ],
   "source": [
    "print(sent)"
   ]
  },
  {
   "cell_type": "code",
   "execution_count": 156,
   "metadata": {
    "scrolled": true
   },
   "outputs": [],
   "source": [
    "words = s_words_tokenize(sent)"
   ]
  },
  {
   "cell_type": "code",
   "execution_count": 157,
   "metadata": {},
   "outputs": [
    {
     "name": "stdout",
     "output_type": "stream",
     "text": [
      "['была', 'регионе', 'стороны', 'районе', 'носит', 'это', 'продолжающихся', 'данным', 'военные', 'от', 'обстановки', 'заявило', 'министерство', 'азербайджанские', 'границы', 'близости', 'приносит', 'инцидентом', 'непосредственной', 'суток', 'темное', 'нагорном', 'случайности', 'трагическим', 'провокациями', 'соболезнования', 'извинения', 'азербайджан', 'произошло', 'готовности', 'характер', 'выразил', 'скорейшего', 'выздоровления', 'связи', 'ведомство', 'пояснили', 'свете', 'пожелал', 'что', 'иностранных', 'военных', 'не', 'этом', 'российской', 'и', 'армянской', 'пострадавшему', 'армяно-азербайджанской', 'возможными', 'азербайджана', 'фоне', 'также', 'отметили', 'техника', 'летел', 'российский', 'ввс', 'стороне', 'сбили', 'время', 'который', 'проходил', 'повышенной', 'замечена', 'воздушная', 'действий', 'карабахе', 'дел', 'вертолет', 'в', 'миде', 'баку', 'семьям', 'с', 'россии', 'боевой', 'ранее', 'напряженной', 'на', 'сообщило', 'погибших', 'вертолета', 'полет']\n",
      "Количество слов в списке =  84\n"
     ]
    }
   ],
   "source": [
    "print(words)\n",
    "print(\"Количество слов в списке = \", len(words))"
   ]
  },
  {
   "cell_type": "markdown",
   "metadata": {},
   "source": [
    "# HTML"
   ]
  },
  {
   "cell_type": "code",
   "execution_count": 90,
   "metadata": {},
   "outputs": [],
   "source": [
    "# библиотеки для запросов\n",
    "import requests as req\n",
    "from urllib.request import urlopen\n",
    "from lxml import etree"
   ]
  },
  {
   "cell_type": "code",
   "execution_count": 64,
   "metadata": {},
   "outputs": [],
   "source": [
    "# веб-страница\n",
    "url = 'https://news.mail.ru/economics/44178288/?frommail=1'"
   ]
  },
  {
   "cell_type": "code",
   "execution_count": 46,
   "metadata": {},
   "outputs": [],
   "source": [
    "headers = {'Content-Type': 'text/html',}"
   ]
  },
  {
   "cell_type": "code",
   "execution_count": 47,
   "metadata": {},
   "outputs": [],
   "source": [
    "reqs = req.get(url, headers=headers)"
   ]
  },
  {
   "cell_type": "code",
   "execution_count": 48,
   "metadata": {},
   "outputs": [],
   "source": [
    "html = reqs.text"
   ]
  },
  {
   "cell_type": "code",
   "execution_count": 49,
   "metadata": {},
   "outputs": [],
   "source": [
    "with open ('req', 'w', encoding='utf-8') as f:\n",
    "    f.write(html)"
   ]
  },
  {
   "cell_type": "code",
   "execution_count": 69,
   "metadata": {},
   "outputs": [],
   "source": [
    "f.close()"
   ]
  },
  {
   "cell_type": "code",
   "execution_count": 50,
   "metadata": {},
   "outputs": [],
   "source": [
    "from bs4 import BeautifulSoup"
   ]
  },
  {
   "cell_type": "code",
   "execution_count": 83,
   "metadata": {},
   "outputs": [],
   "source": [
    "# пример работы с html\n",
    "\n",
    "soup = BeautifulSoup(\"<p>Some<b>bad<i>HTML\", \"lxml\")"
   ]
  },
  {
   "cell_type": "code",
   "execution_count": 79,
   "metadata": {},
   "outputs": [
    {
     "name": "stdout",
     "output_type": "stream",
     "text": [
      "<html>\n",
      " <body>\n",
      "  <p>\n",
      "   Some\n",
      "   <b>\n",
      "    bad\n",
      "    <i>\n",
      "     HTML\n",
      "    </i>\n",
      "   </b>\n",
      "  </p>\n",
      " </body>\n",
      "</html>\n"
     ]
    }
   ],
   "source": [
    "# печать с абзацами\n",
    "\n",
    "print(soup.prettify())"
   ]
  },
  {
   "cell_type": "code",
   "execution_count": 53,
   "metadata": {},
   "outputs": [
    {
     "data": {
      "text/plain": [
       "'bad'"
      ]
     },
     "execution_count": 53,
     "metadata": {},
     "output_type": "execute_result"
    }
   ],
   "source": [
    "soup.find(text=\"bad\")"
   ]
  },
  {
   "cell_type": "code",
   "execution_count": 73,
   "metadata": {},
   "outputs": [
    {
     "data": {
      "text/plain": [
       "<p>Some<b>bad<i>HTML</i></b></p>"
      ]
     },
     "execution_count": 73,
     "metadata": {},
     "output_type": "execute_result"
    }
   ],
   "source": [
    "soup.p"
   ]
  },
  {
   "cell_type": "code",
   "execution_count": 74,
   "metadata": {},
   "outputs": [],
   "source": [
    "soup = BeautifulSoup(\"<tag1>Some<tag2/>bad<tag3>XML\", \"xml\")"
   ]
  },
  {
   "cell_type": "code",
   "execution_count": 75,
   "metadata": {},
   "outputs": [
    {
     "name": "stdout",
     "output_type": "stream",
     "text": [
      "<?xml version=\"1.0\" encoding=\"utf-8\"?>\n",
      "<tag1>\n",
      " Some\n",
      " <tag2/>\n",
      " bad\n",
      " <tag3>\n",
      "  XML\n",
      " </tag3>\n",
      "</tag1>\n"
     ]
    }
   ],
   "source": [
    "print(soup.prettify())"
   ]
  },
  {
   "cell_type": "code",
   "execution_count": 80,
   "metadata": {},
   "outputs": [
    {
     "name": "stdout",
     "output_type": "stream",
     "text": [
      "html\n",
      "body\n",
      "p\n",
      "b\n",
      "i\n"
     ]
    }
   ],
   "source": [
    "for child in soup.recursiveChildGenerator():\n",
    "    if child.name:\n",
    "        print(child.name)"
   ]
  },
  {
   "cell_type": "code",
   "execution_count": 85,
   "metadata": {},
   "outputs": [],
   "source": [
    "root = soup.p"
   ]
  },
  {
   "cell_type": "code",
   "execution_count": 87,
   "metadata": {},
   "outputs": [
    {
     "name": "stdout",
     "output_type": "stream",
     "text": [
      "['b']\n"
     ]
    }
   ],
   "source": [
    "# ищем потомков root\n",
    "root_childs = [e.name for e in root.children if e.name is not None]\n",
    "print(root_childs)"
   ]
  },
  {
   "cell_type": "code",
   "execution_count": 88,
   "metadata": {},
   "outputs": [
    {
     "name": "stdout",
     "output_type": "stream",
     "text": [
      "['p', 'b', 'i']\n"
     ]
    }
   ],
   "source": [
    "# получаем всех потомков\n",
    "root = soup.body\n",
    "root_childs = [e.name for e in root.descendants if e.name is not None]\n",
    "print(root_childs)"
   ]
  },
  {
   "cell_type": "code",
   "execution_count": 89,
   "metadata": {},
   "outputs": [],
   "source": [
    "# веб-страница\n",
    "url = 'https://news.mail.ru/economics/44178288/?frommail=1'"
   ]
  },
  {
   "cell_type": "code",
   "execution_count": 91,
   "metadata": {},
   "outputs": [],
   "source": [
    "reqs = req.get(url)"
   ]
  },
  {
   "cell_type": "code",
   "execution_count": 98,
   "metadata": {},
   "outputs": [
    {
     "name": "stdout",
     "output_type": "stream",
     "text": [
      "<title>Аналитики заявили о завершении здорового роста кредитования в России - Новости Mail.ru</title>\n",
      "Аналитики заявили о завершении здорового роста кредитования в России - Новости Mail.ru\n"
     ]
    }
   ],
   "source": [
    "soup = BeautifulSoup(reqs.text, 'lxml')\n",
    "print(soup.title)\n",
    "print(soup.title.text)\n",
    "# print(soup.title.parent)"
   ]
  }
 ],
 "metadata": {
  "kernelspec": {
   "display_name": "Python 3",
   "language": "python",
   "name": "python3"
  },
  "language_info": {
   "codemirror_mode": {
    "name": "ipython",
    "version": 3
   },
   "file_extension": ".py",
   "mimetype": "text/x-python",
   "name": "python",
   "nbconvert_exporter": "python",
   "pygments_lexer": "ipython3",
   "version": "3.6.4"
  }
 },
 "nbformat": 4,
 "nbformat_minor": 2
}

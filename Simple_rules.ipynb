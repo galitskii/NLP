{
 "cells": [
  {
   "cell_type": "code",
   "execution_count": 1,
   "metadata": {},
   "outputs": [],
   "source": [
    "import cx_Oracle"
   ]
  },
  {
   "cell_type": "code",
   "execution_count": 2,
   "metadata": {},
   "outputs": [],
   "source": [
    "myconnection = cx_Oracle.connect('lexis/lexis@93.175.29.93/mipt')"
   ]
  },
  {
   "cell_type": "code",
   "execution_count": 3,
   "metadata": {},
   "outputs": [],
   "source": [
    "cur = myconnection.cursor()"
   ]
  },
  {
   "cell_type": "code",
   "execution_count": 4,
   "metadata": {},
   "outputs": [
    {
     "name": "stdout",
     "output_type": "stream",
     "text": [
      "WORD_TO_PM\n",
      "WORDS\n",
      "UNDEFINED_WORDS\n",
      "TEST_WORDS\n",
      "TESTS\n",
      "SIMPLE_RULES\n",
      "RULES\n",
      "PROPOSAL_MEMBERS\n",
      "PART_OF_SPEECH\n",
      "NEW_WORDS\n",
      "EXCEPTIONS\n",
      "CASE_OF_WORD\n"
     ]
    }
   ],
   "source": [
    "cur.execute(\"select table_name from USER_TABLES\")\n",
    "res = cur.fetchall()\n",
    "for row in res:\n",
    "        print(\"{0}\".format(row[0]))"
   ]
  },
  {
   "cell_type": "code",
   "execution_count": 8,
   "metadata": {},
   "outputs": [
    {
     "name": "stdout",
     "output_type": "stream",
     "text": [
      "('вы', 20241, 19680, 0, 'b', 'N', '1', ' ', ' ', '2', ' ')\n",
      "вы\n"
     ]
    }
   ],
   "source": [
    "cur.execute(\"select * from words where word = 'вы'\")\n",
    "res = cur.fetchall()\n",
    "for row in res:\n",
    "    print(row)\n",
    "for row in res:\n",
    "        print(\"{0}\".format(row[0]))"
   ]
  },
  {
   "cell_type": "code",
   "execution_count": 13,
   "metadata": {},
   "outputs": [
    {
     "name": "stdout",
     "output_type": "stream",
     "text": [
      "('нюансировавшей', 93571, 6449, 8, '7', 'Y', '6', 'F', 'P', ' ', ' ')\n",
      "('нюансировавшей', 93571, 6449, 9, '7', 'Y', '6', 'F', 'P', ' ', ' ')\n",
      "('нюансированной', 93571, 6449, 10, '7', 'Y', '6', 'F', 'P', ' ', ' ')\n",
      "('нюансированной', 93571, 6449, 11, '7', 'Y', '6', 'F', 'P', ' ', ' ')\n"
     ]
    }
   ],
   "source": [
    "cur.execute(\"select * from words where mid = 93571 and  fid = 6449\")\n",
    "res = cur.fetchall()\n",
    "for row in res:\n",
    "    print(row)"
   ]
  },
  {
   "cell_type": "code",
   "execution_count": 12,
   "metadata": {},
   "outputs": [
    {
     "name": "stdout",
     "output_type": "stream",
     "text": [
      "WORD\n",
      "MID\n",
      "FID\n",
      "CID\n",
      "POS\n",
      "SINGULAR\n",
      "COW\n",
      "KIND\n",
      "TENSE\n",
      "PERSON\n",
      "ANIMAL\n"
     ]
    }
   ],
   "source": [
    "cur.execute(\"select column_name from user_tab_columns where table_name = 'WORDS'\")\n",
    "res = cur.fetchall()\n",
    "for row in res:\n",
    "        print(\"{0}\".format(row[0]))"
   ]
  },
  {
   "cell_type": "code",
   "execution_count": 8,
   "metadata": {},
   "outputs": [
    {
     "name": "stdout",
     "output_type": "stream",
     "text": [
      "(' ', 'неопределено')\n",
      "('1', 'именительный')\n",
      "('2', 'родительный')\n",
      "('3', 'дательный')\n",
      "('4', 'винительный')\n",
      "('5', 'творительный')\n",
      "('6', 'предложный')\n",
      "('7', 'звательный')\n",
      "('8', 'второй родительный')\n",
      "('9', 'второй винительный')\n",
      "('0', 'второй предложный')\n"
     ]
    }
   ],
   "source": [
    "cur.execute(\"select * from case_of_word\")\n",
    "res = cur.fetchall()\n",
    "for row in res:\n",
    "        print(row)"
   ]
  },
  {
   "cell_type": "code",
   "execution_count": 26,
   "metadata": {},
   "outputs": [
    {
     "name": "stdout",
     "output_type": "stream",
     "text": [
      "('2',)\n"
     ]
    }
   ],
   "source": [
    "cur.execute(\"select cow from words where word = 'сна'\")\n",
    "res = cur.fetchall()\n",
    "for row in res:\n",
    "        print(row)"
   ]
  },
  {
   "cell_type": "code",
   "execution_count": 67,
   "metadata": {},
   "outputs": [],
   "source": [
    "cur.execute(\"create table simple_rules(r_id number(10) NOT NULL, prt_l varchar2(1), prt_r varchar2(1), sing_l varchar2(1), sing_r varchar2(1), ans varchar2(1), comm varchar2(100), constraint sr_pk primary key (r_id))\")"
   ]
  },
  {
   "cell_type": "code",
   "execution_count": 66,
   "metadata": {},
   "outputs": [],
   "source": [
    "cur.execute(\"drop table simple_rules\")"
   ]
  },
  {
   "cell_type": "code",
   "execution_count": 71,
   "metadata": {},
   "outputs": [],
   "source": [
    "cur.execute(\"insert into simple_rules(r_id, prt_l, prt_r, sing_l, sing_r, ans) values (1, 'b', '5', 'N', 'N', 'Y')\")"
   ]
  },
  {
   "cell_type": "code",
   "execution_count": 187,
   "metadata": {},
   "outputs": [],
   "source": [
    "cur.execute(\"insert into simple_rules(r_id, prt_l, prt_r, sing_l, sing_r, ans) values (2, '1', '5', 'Y', 'N', 'N')\")"
   ]
  },
  {
   "cell_type": "code",
   "execution_count": 11,
   "metadata": {},
   "outputs": [],
   "source": [
    "cur.execute(\"insert into simple_rules(r_id, prt_l, prt_r, sing_l, sing_r, ans) values (3, '1', '5', 'Y', 'Y', 'Y')\")"
   ]
  },
  {
   "cell_type": "code",
   "execution_count": 13,
   "metadata": {},
   "outputs": [],
   "source": [
    "cur.execute(\"insert into simple_rules(r_id, prt_l, prt_r, sing_l, sing_r, ans) values (4, 'b', '5', 'Y', 'Y', 'Y')\")"
   ]
  },
  {
   "cell_type": "code",
   "execution_count": 202,
   "metadata": {},
   "outputs": [],
   "source": [
    "cur.execute(\"delete from simple_rules where r_id = 28\")"
   ]
  },
  {
   "cell_type": "code",
   "execution_count": 36,
   "metadata": {},
   "outputs": [],
   "source": [
    "cur.execute(\"insert into simple_rules(r_id, prt_l, prt_r, sing_l, sing_r, ans) values (5, '6', '1', ' ', 'Y', 'Y')\")"
   ]
  },
  {
   "cell_type": "code",
   "execution_count": 41,
   "metadata": {},
   "outputs": [],
   "source": [
    "cur.execute(\"insert into simple_rules(r_id, prt_l, prt_r, sing_l, sing_r, ans) values (6, '5', '6', 'Y', ' ', 'Y')\")"
   ]
  },
  {
   "cell_type": "code",
   "execution_count": 50,
   "metadata": {},
   "outputs": [],
   "source": [
    "cur.execute(\"insert into simple_rules(r_id, prt_l, prt_r, sing_l, sing_r, ans) values (7, '6', 'b', ' ', 'Y', 'Y')\")"
   ]
  },
  {
   "cell_type": "code",
   "execution_count": 57,
   "metadata": {},
   "outputs": [],
   "source": [
    "cur.execute(\"insert into simple_rules(r_id, prt_l, prt_r, sing_l, sing_r, ans) values (8, '6', '1', ' ', 'N', 'Y')\")"
   ]
  },
  {
   "cell_type": "code",
   "execution_count": 60,
   "metadata": {},
   "outputs": [],
   "source": [
    "cur.execute(\"insert into simple_rules(r_id, prt_l, prt_r, sing_l, sing_r, ans) values (9, 'b', '6', 'Y', ' ', 'N')\")"
   ]
  },
  {
   "cell_type": "code",
   "execution_count": 67,
   "metadata": {},
   "outputs": [],
   "source": [
    "cur.execute(\"insert into simple_rules(r_id, prt_l, prt_r, sing_l, sing_r, ans) values (10, 'b', '6', 'N', ' ', 'N')\")"
   ]
  },
  {
   "cell_type": "code",
   "execution_count": 127,
   "metadata": {},
   "outputs": [],
   "source": [
    "cur.execute(\"insert into simple_rules(r_id, prt_l, prt_r, sing_l, sing_r, ans) values (11, '5', '6', 'N', ' ', 'Y')\")"
   ]
  },
  {
   "cell_type": "code",
   "execution_count": 88,
   "metadata": {},
   "outputs": [],
   "source": [
    "cur.execute(\"insert into simple_rules(r_id, prt_l, prt_r, sing_l, sing_r, ans) values (12, 'b', '5', 'N', 'Y', 'N')\")"
   ]
  },
  {
   "cell_type": "code",
   "execution_count": 104,
   "metadata": {},
   "outputs": [],
   "source": [
    "cur.execute(\"insert into simple_rules(r_id, prt_l, prt_r, sing_l, sing_r, ans) values (13, '5', 'b', 'Y', 'Y', 'Y')\")"
   ]
  },
  {
   "cell_type": "code",
   "execution_count": 107,
   "metadata": {},
   "outputs": [],
   "source": [
    "cur.execute(\"insert into simple_rules(r_id, prt_l, prt_r, sing_l, sing_r, ans) values (14, '5', 'b', 'Y', 'N', 'N')\")"
   ]
  },
  {
   "cell_type": "code",
   "execution_count": 113,
   "metadata": {},
   "outputs": [],
   "source": [
    "cur.execute(\"insert into simple_rules(r_id, prt_l, prt_r, sing_l, sing_r, ans) values (15, '5', '1', 'Y', 'N', 'Y')\")"
   ]
  },
  {
   "cell_type": "code",
   "execution_count": 117,
   "metadata": {},
   "outputs": [],
   "source": [
    "cur.execute(\"insert into simple_rules(r_id, prt_l, prt_r, sing_l, sing_r, ans) values (16, '5', '1', 'Y', 'Y', 'Y')\")"
   ]
  },
  {
   "cell_type": "code",
   "execution_count": 134,
   "metadata": {},
   "outputs": [],
   "source": [
    "cur.execute(\"insert into simple_rules(r_id, prt_l, prt_r, sing_l, sing_r, ans) values (17, '5', '1', 'N', 'Y', 'Y')\")"
   ]
  },
  {
   "cell_type": "code",
   "execution_count": 137,
   "metadata": {},
   "outputs": [],
   "source": [
    "cur.execute(\"insert into simple_rules(r_id, prt_l, prt_r, sing_l, sing_r, ans) values (18, '5', '1', 'N', 'N', 'Y')\")"
   ]
  },
  {
   "cell_type": "code",
   "execution_count": 144,
   "metadata": {},
   "outputs": [],
   "source": [
    "cur.execute(\"insert into simple_rules(r_id, prt_l, prt_r, sing_l, sing_r, ans) values (19, '5', 'b', 'N', 'Y', 'Y')\")"
   ]
  },
  {
   "cell_type": "code",
   "execution_count": 154,
   "metadata": {},
   "outputs": [],
   "source": [
    "cur.execute(\"insert into simple_rules(r_id, prt_l, prt_r, sing_l, sing_r, ans) values (20, '5', 'b', 'N', 'N', 'Y')\")"
   ]
  },
  {
   "cell_type": "code",
   "execution_count": 160,
   "metadata": {},
   "outputs": [],
   "source": [
    "cur.execute(\"insert into simple_rules(r_id, prt_l, prt_r, sing_l, sing_r, ans) values (21, '6', 'b', ' ', 'N', 'Y')\")"
   ]
  },
  {
   "cell_type": "code",
   "execution_count": 166,
   "metadata": {},
   "outputs": [],
   "source": [
    "cur.execute(\"insert into simple_rules(r_id, prt_l, prt_r, sing_l, sing_r, ans) values (22, '6', '5', ' ', 'N', 'Y')\")"
   ]
  },
  {
   "cell_type": "code",
   "execution_count": 170,
   "metadata": {},
   "outputs": [],
   "source": [
    "cur.execute(\"insert into simple_rules(r_id, prt_l, prt_r, sing_l, sing_r, ans) values (23, '6', '5', ' ', 'Y', 'Y')\")"
   ]
  },
  {
   "cell_type": "code",
   "execution_count": 192,
   "metadata": {},
   "outputs": [],
   "source": [
    "cur.execute(\"insert into simple_rules(r_id, prt_l, prt_r, sing_l, sing_r, ans) values (24, '1', '6', 'Y', ' ', 'Y')\")"
   ]
  },
  {
   "cell_type": "code",
   "execution_count": 182,
   "metadata": {},
   "outputs": [],
   "source": [
    "cur.execute(\"insert into simple_rules(r_id, prt_l, prt_r, sing_l, sing_r, ans) values (25, '1', '5', 'N', 'N', 'Y')\")"
   ]
  },
  {
   "cell_type": "code",
   "execution_count": 188,
   "metadata": {},
   "outputs": [],
   "source": [
    "cur.execute(\"insert into simple_rules(r_id, prt_l, prt_r, sing_l, sing_r, ans) values (26, '1', '5', 'N', 'Y', 'N')\")"
   ]
  },
  {
   "cell_type": "code",
   "execution_count": 197,
   "metadata": {},
   "outputs": [],
   "source": [
    "cur.execute(\"insert into simple_rules(r_id, prt_l, prt_r, sing_l, sing_r, ans) values (27, '1', '6', 'N', ' ', 'Y')\")"
   ]
  },
  {
   "cell_type": "code",
   "execution_count": 203,
   "metadata": {},
   "outputs": [],
   "source": [
    "cur.execute(\"insert into simple_rules(r_id, prt_l, prt_r, sing_l, sing_r, ans) values (28, 'b', '5', 'Y', 'N', 'N')\")"
   ]
  },
  {
   "cell_type": "code",
   "execution_count": 120,
   "metadata": {},
   "outputs": [
    {
     "name": "stdout",
     "output_type": "stream",
     "text": [
      "(10, 'b', '6', 'N', ' ', 'N', None)\n",
      "(11, 'b', '5', 'N', 'N', 'Y', None)\n",
      "(12, 'b', '5', 'N', 'Y', 'N', None)\n",
      "(3, '1', '5', 'Y', 'Y', 'Y', None)\n",
      "(4, 'b', '5', 'Y', 'Y', 'Y', None)\n",
      "(6, '5', '6', 'Y', ' ', 'Y', None)\n",
      "(5, '6', '1', ' ', 'Y', 'Y', None)\n",
      "(7, '6', 'b', ' ', 'Y', 'Y', None)\n",
      "(1, 'b', '5', 'N', 'N', 'Y', None)\n",
      "(2, '1', '5', 'Y', 'N', 'N', None)\n",
      "(8, '6', '1', ' ', 'N', 'Y', None)\n",
      "(9, 'b', '6', 'Y', ' ', 'N', None)\n",
      "(13, '5', 'b', 'Y', 'Y', 'Y', None)\n",
      "(14, '5', 'b', 'Y', 'N', 'N', None)\n",
      "(15, '5', '1', 'Y', 'N', 'Y', None)\n",
      "(16, '5', '1', 'Y', 'Y', 'Y', None)\n"
     ]
    }
   ],
   "source": [
    "cur.execute(\"select * from simple_rules\")\n",
    "res = cur.fetchall()\n",
    "for row in res:\n",
    "        print(row)"
   ]
  },
  {
   "cell_type": "code",
   "execution_count": 108,
   "metadata": {},
   "outputs": [],
   "source": [
    "def check(str):\n",
    "    lst = str.split()\n",
    "    if len(lst) != 2:\n",
    "        print(\"Это не пара слов\")\n",
    "        return -1\n",
    "    cur.execute(\"select pos, singular from words where word = '%s'\" % lst[0])\n",
    "    res_l = cur.fetchall()\n",
    "    res_l = list(set(res_l))\n",
    "    cur.execute(\"select pos, singular from words where word = '%s'\" % lst[1])\n",
    "    res_r = cur.fetchall()\n",
    "    res_r = list(set(res_r))\n",
    "    for i in res_l:\n",
    "        for j in res_r:\n",
    "            print(\"select ans from simple_rules where prt_l = '{}' and prt_r = '{}' and sing_l = '{}' and sing_r = '{}'\".format(i[0], j[0], i[1], j[1]))\n",
    "            cur.execute(\"select ans from simple_rules where prt_l = '{}' and prt_r = '{}' and sing_l = '{}' and sing_r = '{}'\".format(i[0], j[0], i[1], j[1]))\n",
    "            res = cur.fetchall()\n",
    "            res = list(set(res))\n",
    "            if len(res) > 0:\n",
    "                print(\"Правило сработало\")\n",
    "                for k in res:\n",
    "                    print(k[0])"
   ]
  },
  {
   "cell_type": "code",
   "execution_count": 248,
   "metadata": {},
   "outputs": [
    {
     "name": "stdout",
     "output_type": "stream",
     "text": [
      "select ans from simple_rules where prt_l = '6' and prt_r = '1' and sing_l = ' ' and sing_r = 'Y'\n",
      "Правило сработало\n",
      "Y\n"
     ]
    }
   ],
   "source": [
    "check(\"быть человеком\")"
   ]
  },
  {
   "cell_type": "code",
   "execution_count": 241,
   "metadata": {},
   "outputs": [],
   "source": [
    "myconnection.commit()"
   ]
  },
  {
   "cell_type": "code",
   "execution_count": 27,
   "metadata": {},
   "outputs": [],
   "source": [
    "myconnection.close()"
   ]
  }
 ],
 "metadata": {
  "kernelspec": {
   "display_name": "Python 3",
   "language": "python",
   "name": "python3"
  },
  "language_info": {
   "codemirror_mode": {
    "name": "ipython",
    "version": 3
   },
   "file_extension": ".py",
   "mimetype": "text/x-python",
   "name": "python",
   "nbconvert_exporter": "python",
   "pygments_lexer": "ipython3",
   "version": "3.6.4"
  }
 },
 "nbformat": 4,
 "nbformat_minor": 2
}

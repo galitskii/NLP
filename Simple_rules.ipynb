{
 "cells": [
  {
   "cell_type": "code",
   "execution_count": 1,
   "metadata": {},
   "outputs": [],
   "source": [
    "import cx_Oracle"
   ]
  },
  {
   "cell_type": "code",
   "execution_count": 2,
   "metadata": {},
   "outputs": [],
   "source": [
    "myconnection = cx_Oracle.connect('lexis/lexis@93.175.29.93/mipt')"
   ]
  },
  {
   "cell_type": "code",
   "execution_count": 3,
   "metadata": {},
   "outputs": [],
   "source": [
    "cur = myconnection.cursor()"
   ]
  },
  {
   "cell_type": "code",
   "execution_count": 4,
   "metadata": {},
   "outputs": [
    {
     "name": "stdout",
     "output_type": "stream",
     "text": [
      "CASE_OF_WORD\n",
      "EXCEPTIONS\n",
      "NEW_WORDS\n",
      "PART_OF_SPEECH\n",
      "PROPOSAL_MEMBERS\n",
      "RULES\n",
      "SIMPLE_RULES\n",
      "TESTS\n",
      "TEST_WORDS\n",
      "UNDEFINED_WORDS\n",
      "WORDS\n",
      "WORD_TO_PM\n"
     ]
    }
   ],
   "source": [
    "# список таблиц в базе\n",
    "\n",
    "cur.execute(\"select table_name from USER_TABLES\")\n",
    "res = cur.fetchall()\n",
    "for row in res:\n",
    "        print(\"{0}\".format(row[0]))"
   ]
  },
  {
   "cell_type": "code",
   "execution_count": 26,
   "metadata": {
    "scrolled": true
   },
   "outputs": [
    {
     "name": "stdout",
     "output_type": "stream",
     "text": [
      "WORD\n",
      "MID\n",
      "FID\n",
      "CID\n",
      "POS\n",
      "SINGULAR\n",
      "COW\n",
      "KIND\n",
      "TENSE\n",
      "PERSON\n",
      "ANIMAL\n"
     ]
    }
   ],
   "source": [
    "# вывод списка полей таблицы\n",
    "\n",
    "cur.execute(\"select column_name from user_tab_columns where table_name = 'WORDS'\")\n",
    "res = cur.fetchall()\n",
    "for row in res:\n",
    "        print(\"{0}\".format(row[0]))"
   ]
  },
  {
   "cell_type": "code",
   "execution_count": 5,
   "metadata": {},
   "outputs": [
    {
     "name": "stdout",
     "output_type": "stream",
     "text": [
      "('дедушку', 38711, 833, 0, '1', 'Y', '4', 'M', ' ', ' ', 'Y')\n"
     ]
    }
   ],
   "source": [
    "# вывод информации о конкретном слове\n",
    "\n",
    "cur.execute(\"select * from words where word = 'дедушку'\")\n",
    "res = cur.fetchall()\n",
    "for row in res:\n",
    "    print(row)"
   ]
  },
  {
   "cell_type": "code",
   "execution_count": 37,
   "metadata": {
    "scrolled": true
   },
   "outputs": [
    {
     "name": "stdout",
     "output_type": "stream",
     "text": [
      "(' ', 'неопределено')\n",
      "('1', 'именительный')\n",
      "('2', 'родительный')\n",
      "('3', 'дательный')\n",
      "('4', 'винительный')\n",
      "('5', 'творительный')\n",
      "('6', 'предложный')\n",
      "('7', 'звательный')\n",
      "('8', 'второй родительный')\n",
      "('9', 'второй винительный')\n",
      "('0', 'второй предложный')\n"
     ]
    }
   ],
   "source": [
    "cur.execute(\"select * from case_of_word\")\n",
    "res = cur.fetchall()\n",
    "for row in res:\n",
    "        print(row)"
   ]
  },
  {
   "cell_type": "code",
   "execution_count": 60,
   "metadata": {},
   "outputs": [
    {
     "name": "stdout",
     "output_type": "stream",
     "text": [
      "('1', 'существительное')\n",
      "('2', 'прилагательное полн')\n",
      "('3', 'прилагательное крат')\n",
      "('4', 'прилагательное срав')\n",
      "('5', 'глагол личная форма')\n",
      "('6', 'глагол инфинитив')\n",
      "('7', 'причастие полн')\n",
      "('8', 'причастие крат')\n",
      "('9', 'деепричастие')\n",
      "('0', 'числительное')\n",
      "('a', 'наречие')\n",
      "('b', 'местоимение')\n",
      "('c', 'предикатив')\n",
      "('d', 'предлог')\n",
      "('e', 'союз')\n",
      "('f', 'частица')\n",
      "('g', 'междометие')\n",
      "(' ', 'неопределено')\n"
     ]
    }
   ],
   "source": [
    "cur.execute(\"select * from part_of_speech\")\n",
    "res = cur.fetchall()\n",
    "for row in res:\n",
    "        print(row)"
   ]
  },
  {
   "cell_type": "code",
   "execution_count": 7,
   "metadata": {},
   "outputs": [
    {
     "ename": "DatabaseError",
     "evalue": "ORA-00955: name is already used by an existing object",
     "output_type": "error",
     "traceback": [
      "\u001b[1;31m---------------------------------------------------------------------------\u001b[0m",
      "\u001b[1;31mDatabaseError\u001b[0m                             Traceback (most recent call last)",
      "\u001b[1;32m<ipython-input-7-ea8ba4f68e1b>\u001b[0m in \u001b[0;36m<module>\u001b[1;34m()\u001b[0m\n\u001b[1;32m----> 1\u001b[1;33m \u001b[0mcur\u001b[0m\u001b[1;33m.\u001b[0m\u001b[0mexecute\u001b[0m\u001b[1;33m(\u001b[0m\u001b[1;34m\"create table simple_rules(r_id number(10) NOT NULL, prt_l varchar2(1), prt_r varchar2(1), sing_l varchar2(1), sing_r varchar2(1), ans varchar2(1), comm varchar2(100), constraint sr_pk primary key (r_id))\"\u001b[0m\u001b[1;33m)\u001b[0m\u001b[1;33m\u001b[0m\u001b[0m\n\u001b[0m",
      "\u001b[1;31mDatabaseError\u001b[0m: ORA-00955: name is already used by an existing object"
     ]
    }
   ],
   "source": [
    "cur.execute(\"create table simple_rules(r_id number(10) NOT NULL, prt_l varchar2(1), prt_r varchar2(1), sing_l varchar2(1), sing_r varchar2(1), ans varchar2(1), comm varchar2(100), constraint sr_pk primary key (r_id))\")"
   ]
  },
  {
   "cell_type": "code",
   "execution_count": 28,
   "metadata": {},
   "outputs": [],
   "source": [
    "cur.execute(\"ALTER TABLE simple_rules DROP COLUMN comm\")"
   ]
  },
  {
   "cell_type": "code",
   "execution_count": 66,
   "metadata": {},
   "outputs": [],
   "source": [
    "cur.execute(\"drop table simple_rules\")"
   ]
  },
  {
   "cell_type": "code",
   "execution_count": 6,
   "metadata": {},
   "outputs": [],
   "source": [
    "cur.execute(\"ALTER TABLE simple_rules ADD ex varchar2(100)\")"
   ]
  },
  {
   "cell_type": "code",
   "execution_count": null,
   "metadata": {},
   "outputs": [],
   "source": [
    "cur.execute(\"ALTER TABLE simple_rules ADD cow_r CHAR(1)\")"
   ]
  },
  {
   "cell_type": "code",
   "execution_count": 71,
   "metadata": {},
   "outputs": [],
   "source": [
    "cur.execute(\"insert into simple_rules(r_id, prt_l, prt_r, sing_l, sing_r, ans) values (1, 'b', '5', 'N', 'N', 'Y')\")"
   ]
  },
  {
   "cell_type": "code",
   "execution_count": 187,
   "metadata": {},
   "outputs": [],
   "source": [
    "cur.execute(\"insert into simple_rules(r_id, prt_l, prt_r, sing_l, sing_r, ans) values (2, '1', '5', 'Y', 'N', 'N')\")"
   ]
  },
  {
   "cell_type": "code",
   "execution_count": 11,
   "metadata": {},
   "outputs": [],
   "source": [
    "cur.execute(\"insert into simple_rules(r_id, prt_l, prt_r, sing_l, sing_r, ans) values (3, '1', '5', 'Y', 'Y', 'Y')\")"
   ]
  },
  {
   "cell_type": "code",
   "execution_count": 13,
   "metadata": {},
   "outputs": [],
   "source": [
    "cur.execute(\"insert into simple_rules(r_id, prt_l, prt_r, sing_l, sing_r, ans) values (4, 'b', '5', 'Y', 'Y', 'Y')\")"
   ]
  },
  {
   "cell_type": "code",
   "execution_count": 202,
   "metadata": {},
   "outputs": [],
   "source": [
    "cur.execute(\"delete from simple_rules where r_id = 28\")"
   ]
  },
  {
   "cell_type": "code",
   "execution_count": 36,
   "metadata": {},
   "outputs": [],
   "source": [
    "cur.execute(\"insert into simple_rules(r_id, prt_l, prt_r, sing_l, sing_r, ans) values (5, '6', '1', ' ', 'Y', 'Y')\")"
   ]
  },
  {
   "cell_type": "code",
   "execution_count": 41,
   "metadata": {},
   "outputs": [],
   "source": [
    "cur.execute(\"insert into simple_rules(r_id, prt_l, prt_r, sing_l, sing_r, ans) values (6, '5', '6', 'Y', ' ', 'Y')\")"
   ]
  },
  {
   "cell_type": "code",
   "execution_count": 50,
   "metadata": {},
   "outputs": [],
   "source": [
    "cur.execute(\"insert into simple_rules(r_id, prt_l, prt_r, sing_l, sing_r, ans) values (7, '6', 'b', ' ', 'Y', 'Y')\")"
   ]
  },
  {
   "cell_type": "code",
   "execution_count": 57,
   "metadata": {},
   "outputs": [],
   "source": [
    "cur.execute(\"insert into simple_rules(r_id, prt_l, prt_r, sing_l, sing_r, ans) values (8, '6', '1', ' ', 'N', 'Y')\")"
   ]
  },
  {
   "cell_type": "code",
   "execution_count": 60,
   "metadata": {},
   "outputs": [],
   "source": [
    "cur.execute(\"insert into simple_rules(r_id, prt_l, prt_r, sing_l, sing_r, ans) values (9, 'b', '6', 'Y', ' ', 'N')\")"
   ]
  },
  {
   "cell_type": "code",
   "execution_count": 67,
   "metadata": {},
   "outputs": [],
   "source": [
    "cur.execute(\"insert into simple_rules(r_id, prt_l, prt_r, sing_l, sing_r, ans) values (10, 'b', '6', 'N', ' ', 'N')\")"
   ]
  },
  {
   "cell_type": "code",
   "execution_count": 127,
   "metadata": {},
   "outputs": [],
   "source": [
    "cur.execute(\"insert into simple_rules(r_id, prt_l, prt_r, sing_l, sing_r, ans) values (11, '5', '6', 'N', ' ', 'Y')\")"
   ]
  },
  {
   "cell_type": "code",
   "execution_count": 88,
   "metadata": {},
   "outputs": [],
   "source": [
    "cur.execute(\"insert into simple_rules(r_id, prt_l, prt_r, sing_l, sing_r, ans) values (12, 'b', '5', 'N', 'Y', 'N')\")"
   ]
  },
  {
   "cell_type": "code",
   "execution_count": 104,
   "metadata": {},
   "outputs": [],
   "source": [
    "cur.execute(\"insert into simple_rules(r_id, prt_l, prt_r, sing_l, sing_r, ans) values (13, '5', 'b', 'Y', 'Y', 'Y')\")"
   ]
  },
  {
   "cell_type": "code",
   "execution_count": 107,
   "metadata": {},
   "outputs": [],
   "source": [
    "cur.execute(\"insert into simple_rules(r_id, prt_l, prt_r, sing_l, sing_r, ans) values (14, '5', 'b', 'Y', 'N', 'N')\")"
   ]
  },
  {
   "cell_type": "code",
   "execution_count": 113,
   "metadata": {},
   "outputs": [],
   "source": [
    "cur.execute(\"insert into simple_rules(r_id, prt_l, prt_r, sing_l, sing_r, ans) values (15, '5', '1', 'Y', 'N', 'Y')\")"
   ]
  },
  {
   "cell_type": "code",
   "execution_count": 117,
   "metadata": {},
   "outputs": [],
   "source": [
    "cur.execute(\"insert into simple_rules(r_id, prt_l, prt_r, sing_l, sing_r, ans) values (16, '5', '1', 'Y', 'Y', 'Y')\")"
   ]
  },
  {
   "cell_type": "code",
   "execution_count": 134,
   "metadata": {},
   "outputs": [],
   "source": [
    "cur.execute(\"insert into simple_rules(r_id, prt_l, prt_r, sing_l, sing_r, ans) values (17, '5', '1', 'N', 'Y', 'Y')\")"
   ]
  },
  {
   "cell_type": "code",
   "execution_count": 137,
   "metadata": {},
   "outputs": [],
   "source": [
    "cur.execute(\"insert into simple_rules(r_id, prt_l, prt_r, sing_l, sing_r, ans) values (18, '5', '1', 'N', 'N', 'Y')\")"
   ]
  },
  {
   "cell_type": "code",
   "execution_count": 144,
   "metadata": {},
   "outputs": [],
   "source": [
    "cur.execute(\"insert into simple_rules(r_id, prt_l, prt_r, sing_l, sing_r, ans) values (19, '5', 'b', 'N', 'Y', 'Y')\")"
   ]
  },
  {
   "cell_type": "code",
   "execution_count": 154,
   "metadata": {},
   "outputs": [],
   "source": [
    "cur.execute(\"insert into simple_rules(r_id, prt_l, prt_r, sing_l, sing_r, ans) values (20, '5', 'b', 'N', 'N', 'Y')\")"
   ]
  },
  {
   "cell_type": "code",
   "execution_count": 160,
   "metadata": {},
   "outputs": [],
   "source": [
    "cur.execute(\"insert into simple_rules(r_id, prt_l, prt_r, sing_l, sing_r, ans) values (21, '6', 'b', ' ', 'N', 'Y')\")"
   ]
  },
  {
   "cell_type": "code",
   "execution_count": 166,
   "metadata": {},
   "outputs": [],
   "source": [
    "cur.execute(\"insert into simple_rules(r_id, prt_l, prt_r, sing_l, sing_r, ans) values (22, '6', '5', ' ', 'N', 'Y')\")"
   ]
  },
  {
   "cell_type": "code",
   "execution_count": 170,
   "metadata": {},
   "outputs": [],
   "source": [
    "cur.execute(\"insert into simple_rules(r_id, prt_l, prt_r, sing_l, sing_r, ans) values (23, '6', '5', ' ', 'Y', 'Y')\")"
   ]
  },
  {
   "cell_type": "code",
   "execution_count": 192,
   "metadata": {},
   "outputs": [],
   "source": [
    "cur.execute(\"insert into simple_rules(r_id, prt_l, prt_r, sing_l, sing_r, ans) values (24, '1', '6', 'Y', ' ', 'Y')\")"
   ]
  },
  {
   "cell_type": "code",
   "execution_count": 182,
   "metadata": {},
   "outputs": [],
   "source": [
    "cur.execute(\"insert into simple_rules(r_id, prt_l, prt_r, sing_l, sing_r, ans) values (25, '1', '5', 'N', 'N', 'Y')\")"
   ]
  },
  {
   "cell_type": "code",
   "execution_count": 188,
   "metadata": {},
   "outputs": [],
   "source": [
    "cur.execute(\"insert into simple_rules(r_id, prt_l, prt_r, sing_l, sing_r, ans) values (26, '1', '5', 'N', 'Y', 'N')\")"
   ]
  },
  {
   "cell_type": "code",
   "execution_count": 197,
   "metadata": {},
   "outputs": [],
   "source": [
    "cur.execute(\"insert into simple_rules(r_id, prt_l, prt_r, sing_l, sing_r, ans) values (27, '1', '6', 'N', ' ', 'Y')\")"
   ]
  },
  {
   "cell_type": "code",
   "execution_count": 203,
   "metadata": {},
   "outputs": [],
   "source": [
    "cur.execute(\"insert into simple_rules(r_id, prt_l, prt_r, sing_l, sing_r, ans) values (28, 'b', '5', 'Y', 'N', 'N')\")"
   ]
  },
  {
   "cell_type": "code",
   "execution_count": 45,
   "metadata": {},
   "outputs": [],
   "source": [
    "cur.execute(\"insert into simple_rules(r_id, prt_l, prt_r, sing_l, sing_r, ans, cow_l, cow_r, comm) values (29, 'b', '5', 'Y', 'N', 'Y', '2', ' ', 'Если после местоимения в род. падеже ед. ч. идёт личный глагол во множественном числе, то время согласовано')\")"
   ]
  },
  {
   "cell_type": "code",
   "execution_count": 25,
   "metadata": {},
   "outputs": [],
   "source": [
    "cur.execute(\"insert into simple_rules(r_id, prt_l, prt_r, sing_l, sing_r, ans, cow_l, cow_r, comm) values (44, '5', '1', 'Y', 'Y', 'Y', ' ', '4', 'Если после личного глагола в ед. ч. идёт существительное в вин. падеже ед. ч., то время согласовано')\")"
   ]
  },
  {
   "cell_type": "code",
   "execution_count": 4,
   "metadata": {},
   "outputs": [
    {
     "name": "stdout",
     "output_type": "stream",
     "text": [
      "(1, 'b', '5', 'N', 'N', 'Y', '1', ' ', 'Если после местоимения в имен. падеже мн. ч. идёт личный глагол во множественном числе, то время согласовано', 'мы делали')\n",
      "(2, '1', '5', 'Y', 'N', 'N', '1', ' ', 'Если после существительного в имен. падеже ед. ч. идёт личный глагол во множественном числе, то время не согласовано', 'собака лаяли')\n",
      "(3, '1', '5', 'Y', 'Y', 'Y', '1', ' ', 'Если после существительного в имен. падеже ед. ч. идёт личный глагол в единственном числе, то время согласовано', 'самолёт летит')\n",
      "(4, 'b', '5', 'Y', 'Y', 'Y', '1', ' ', 'Если после местоимения в им. падеже ед.ч. идёт личный глагол в единственном числе, то время согласовано', 'я делаю')\n",
      "(5, '6', '1', ' ', 'Y', 'Y', ' ', '4', 'Если после инфинитива идёт существительное в вин. падеже ед. ч., то время согласовано', 'делать дело')\n",
      "(6, '5', '6', 'Y', ' ', 'Y', ' ', ' ', 'Если после личного глагола ед.ч. идёт инфинитив, то время согласовано', 'хочет есть')\n",
      "(7, '6', 'b', ' ', 'Y', 'Y', ' ', '2', 'Если после инфинитива идёт местоимение в род. падеже ед. ч., то время согласовано', 'убить его')\n",
      "(8, '6', '1', ' ', 'N', 'Y', ' ', '5', 'Если после инфинитива идёт существительное в твор. падеже мн. ч., то время согласовано', 'гордиться родителями')\n",
      "(9, 'b', '6', 'Y', ' ', 'N', '1', ' ', 'Если после местоимения в им. падеже ед. ч. идёт инфинитив, то время не согласовано', None)\n",
      "(10, 'b', '6', 'N', ' ', 'N', '1', ' ', 'Если после местоимения в имен. падеже мн. ч. идёт инфинитив, то время не согласовано', None)\n",
      "(11, '5', '6', 'N', ' ', 'Y', ' ', ' ', 'Если после личного глагола во мн. ч. идёт инфинитив, то время согласовано', None)\n",
      "(12, 'b', '5', 'N', 'Y', 'N', '1', ' ', 'Если после местоимения в им. падеже мн. ч. идёт личный глагол в ед. ч., то время не согласовано', None)\n",
      "(13, '5', 'b', 'Y', 'Y', 'Y', ' ', '2', 'Если после личного глагола в ед. ч. идёт местоимение в род. падеже ед. ч., то время согласовано', None)\n",
      "(14, '5', 'b', 'Y', 'N', 'N', ' ', '1', 'Если после личного глагола в ед. ч. идёт местоимение в им. падеже мн. ч., то время не согласовано', None)\n",
      "(15, '5', '1', 'Y', 'N', 'Y', ' ', '1', 'Если после личного глагола в ед. ч. идёт существительное в им. падеже мн. ч., то время согласовано', None)\n",
      "(16, '5', '1', 'Y', 'Y', 'Y', ' ', '1', 'Если после личного глагола в ед. ч. идёт существительное в им. падеже ед. ч., то время согласовано', None)\n",
      "(17, '5', '1', 'N', 'Y', 'Y', ' ', '1', 'Если после личного глагола во мн. ч. идёт существительное в им. падеже ед. ч., то время согласовано', None)\n",
      "(18, '5', '1', 'N', 'N', 'Y', ' ', '1', 'Если после личного глагола во мн. ч. идёт существительное в им. падеже мн. ч., то время согласовано', None)\n",
      "(19, '5', 'b', 'N', 'Y', 'Y', ' ', '1', 'Если после личного глагола во мн. ч. идёт местоимение в им. падеже ед. ч., то время согласовано', None)\n",
      "(20, '5', 'b', 'N', 'N', 'Y', ' ', '1', 'Если после личного глагола во мн. ч. идёт местоимение в им. падеже мн. ч., то время согласовано', None)\n",
      "(21, '6', 'b', ' ', 'N', 'Y', ' ', '2', 'Если после инфинитива идёт местоимение в род. п. мн. ч, то время согласовано', None)\n",
      "(22, '6', '5', ' ', 'N', 'Y', None, None, 'Если после инфинитива идёт личный глагол во множественном числе, то время согласовано', None)\n",
      "(23, '6', '5', ' ', 'Y', 'Y', None, None, 'Если после инфинитива идёт личный глагол в единственном числе, то время согласовано', None)\n",
      "(24, '1', '6', 'Y', ' ', 'Y', '3', ' ', 'Если после существительного в дат. падеже ед. ч. идёт инфинитив, то время согласовано', None)\n",
      "(25, '1', '5', 'N', 'N', 'Y', '1', ' ', 'Если после существительного в им. падеже мн. ч. идёт личный глагол во мн. ч., то время согласовано', None)\n",
      "(26, '1', '5', 'N', 'Y', 'N', '1', ' ', 'Если после существительного в им. падеже мн. ч. идёт личный глагол в ед. ч., то время не согласовано', None)\n",
      "(27, '1', '6', 'N', ' ', 'Y', '3', ' ', 'Если после существительного в дат. падеже мн. ч. идёт инфинитив, то время согласовано', None)\n",
      "(28, 'b', '5', 'Y', 'N', 'N', '1', ' ', 'Если после местоимения в им. падеже ед. ч. идёт личный глагол во мн. ч., то время не согласовано', None)\n",
      "(29, 'b', '5', 'Y', 'N', 'Y', '2', ' ', 'Если после местоимения в род. падеже ед. ч. идёт личный глагол во множественном числе, то время согласовано', None)\n",
      "(30, 'b', '5', 'Y', 'N', 'Y', '3', ' ', 'Если после местоимения в дат. падеже ед. ч. идёт личный глагол во множественном числе, то время согласовано', None)\n",
      "(31, '5', 'b', 'N', 'Y', 'Y', ' ', '2', 'Если после личного глагола во мн. ч. идёт местоимение в род. падеже ед. ч., то время согласовано', None)\n",
      "(32, '5', 'b', 'N', 'N', 'Y', ' ', '2', 'Если после личного глагола в мн. ч. идёт местоимение в род. падеже мн. ч., то время согласовано', None)\n",
      "(33, '5', '1', 'Y', 'N', 'Y', ' ', '2', 'Если после личного глагола в ед. ч. идёт существительное в род. падеже мн. ч., то время согласовано', None)\n",
      "(34, '5', '1', 'N', 'N', 'Y', ' ', '2', 'Если после личного глагола во мн. ч. идёт существительное в род. падеже мн. ч., то время согласовано', None)\n",
      "(35, '1', '1', 'Y', 'N', 'Y', '1', '2', 'Если после существительного в им. падеже ед. ч. идёт существительное в род. падеже мн. ч., то время согласовано', None)\n",
      "(36, '6', '1', ' ', 'N', 'Y', ' ', '2', 'Если после инфинитива идёт существительное в род. падеже мн. ч., то время согласовано', None)\n",
      "(37, '6', '6', ' ', ' ', 'Y', ' ', ' ', 'Если после инфинитива идёт инфинитив, то время согласовано', None)\n",
      "(38, '5', 'b', 'Y', 'N', 'Y', ' ', '2', 'Если после личного глагола в ед.ч. идёт местоимение в род. падеже мн. ч., то время согласовано', None)\n",
      "(39, '6', '1', ' ', 'Y', 'Y', ' ', '3', 'Если после инфинитива идёт существительное в дат. падеже ед. ч., то время согласовано', None)\n",
      "(40, '1', '1', 'Y', 'Y', 'Y', '1', '2', 'Если после существительное в им. падеже ед. ч. идёт существительное в род. падеже ед. ч., то время согласовано', None)\n",
      "(41, '6', 'b', ' ', 'Y', 'Y', ' ', '2', 'Если после инфинитива идёт местоимение в род. падеже ед. ч., то время согласовано', None)\n",
      "(42, '6', 'b', ' ', 'Y', 'Y', ' ', '5', 'Если после инфинитива идёт местоимение в твор. падеже ед. ч., то время согласовано', None)\n",
      "(43, '5', '1', 'Y', 'Y', 'Y', ' ', '2', 'Если после личного глагола в ед. ч. идёт существительное в род. падеже ед. ч., то время согласовано', None)\n",
      "(44, '5', '1', 'Y', 'Y', 'Y', ' ', '4', 'Если после личного глагола в ед. ч. идёт существительное в вин. падеже ед. ч., то время согласовано', None)\n"
     ]
    }
   ],
   "source": [
    "cur.execute(\"select * from simple_rules order by r_id\")\n",
    "res = cur.fetchall()\n",
    "for row in res:\n",
    "        print(row)"
   ]
  },
  {
   "cell_type": "code",
   "execution_count": 52,
   "metadata": {},
   "outputs": [],
   "source": [
    "cur.execute(\"update simple_rules set ex = 'гордиться родителями' where r_id = 9\")"
   ]
  },
  {
   "cell_type": "code",
   "execution_count": 50,
   "metadata": {},
   "outputs": [],
   "source": [
    "cur.execute(\"update simple_rules set cow_r = '5' where r_id = 8\")"
   ]
  },
  {
   "cell_type": "code",
   "execution_count": 48,
   "metadata": {},
   "outputs": [],
   "source": [
    "cur.execute(\"update simple_rules set comm = 'Если после инфинитива идёт существительное в твор. падеже мн. ч., то время согласовано' where r_id = 8\")"
   ]
  },
  {
   "cell_type": "code",
   "execution_count": 71,
   "metadata": {},
   "outputs": [],
   "source": [
    "myconnection.rollback()"
   ]
  },
  {
   "cell_type": "code",
   "execution_count": 257,
   "metadata": {},
   "outputs": [],
   "source": [
    "cur.execute(\"update simple_rules set comm = 'Если после личного глагола в ед. ч. идёт местоимение в род. падеже ед. ч., то время согласовано', cow_l = ' ', cow_r = '2' where r_id = 13\")"
   ]
  },
  {
   "cell_type": "code",
   "execution_count": 277,
   "metadata": {},
   "outputs": [],
   "source": [
    "def check(str):\n",
    "    lst = str.split() # разбиваем предложение на слова\n",
    "    #if len(lst) != 2:\n",
    "    #    print(\"Это не пара слов\")\n",
    "    #    return -1\"\"\"\n",
    "    ans = [] # здесь будут варианты ответа\n",
    "    for q in range(len(lst) - 1):\n",
    "        ans1 = [] \n",
    "        cur.execute(\"select pos, singular, cow from words where word = '%s'\" % lst[q])\n",
    "        res_l = cur.fetchall()\n",
    "        res_l = list(set(res_l))\n",
    "\n",
    "        cur.execute(\"select pos, singular, cow from words where word = '%s'\" % lst[q + 1])\n",
    "        res_r = cur.fetchall()\n",
    "        res_r = list(set(res_r))\n",
    "    \n",
    "        for i in res_l:\n",
    "            for j in res_r:\n",
    "            #print(\"select ans from simple_rules where prt_l = '{}' and prt_r = '{}' and sing_l = '{}' and sing_r = '{}'\".format(i[0], j[0], i[1], j[1]))\n",
    "                cur.execute(\"select ans from simple_rules where prt_l = '{}' and prt_r = '{}' and sing_l = '{}' and sing_r = '{}' and cow_l = '{}' and cow_r = '{}'\".format(i[0], j[0], i[1], j[1], i[2], j[2]))\n",
    "                res = cur.fetchall()\n",
    "                res = list(set(res))\n",
    "\n",
    "                if len(res) > 0:\n",
    "                    for k in res:\n",
    "                        ans1.append(k[0])                        \n",
    "        if 'Y' in ans1:\n",
    "            ans.append('Y')\n",
    "        elif 'N' in ans1:\n",
    "            ans.append('N')\n",
    "        else:\n",
    "            ans.append('E')\n",
    "    print(\"Результат прохода: \", ans)\n",
    "    return set(ans)"
   ]
  },
  {
   "cell_type": "code",
   "execution_count": 278,
   "metadata": {},
   "outputs": [],
   "source": [
    "def res(str):\n",
    "    l = check(str)\n",
    "    if 'E' in l:\n",
    "        print(\"Есть незнакакомые сочетания\")\n",
    "    elif 'N' in l:\n",
    "        print(\"Ошибка в согласовании единственного и множественного числа\")\n",
    "    else:\n",
    "        print(\"Ошибок в согласовании единственного и множественного числа нет\")"
   ]
  },
  {
   "cell_type": "code",
   "execution_count": 279,
   "metadata": {},
   "outputs": [
    {
     "name": "stdout",
     "output_type": "stream",
     "text": [
      "Результат прохода:  ['N', 'Y']\n",
      "Ошибка в согласовании единственного и множественного числа\n"
     ]
    }
   ],
   "source": [
    "res(\"иван убивали людей\")"
   ]
  },
  {
   "cell_type": "code",
   "execution_count": 57,
   "metadata": {},
   "outputs": [],
   "source": [
    "myconnection.commit()"
   ]
  },
  {
   "cell_type": "code",
   "execution_count": 58,
   "metadata": {},
   "outputs": [],
   "source": [
    "myconnection.close()"
   ]
  }
 ],
 "metadata": {
  "kernelspec": {
   "display_name": "Python 3",
   "language": "python",
   "name": "python3"
  },
  "language_info": {
   "codemirror_mode": {
    "name": "ipython",
    "version": 3
   },
   "file_extension": ".py",
   "mimetype": "text/x-python",
   "name": "python",
   "nbconvert_exporter": "python",
   "pygments_lexer": "ipython3",
   "version": "3.6.4"
  }
 },
 "nbformat": 4,
 "nbformat_minor": 2
}

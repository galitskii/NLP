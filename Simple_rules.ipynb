{
 "cells": [
  {
   "cell_type": "code",
   "execution_count": 17,
   "metadata": {},
   "outputs": [],
   "source": [
    "import cx_Oracle"
   ]
  },
  {
   "cell_type": "code",
   "execution_count": 18,
   "metadata": {},
   "outputs": [],
   "source": [
    "myconnection = cx_Oracle.connect('lexis/lexis@93.175.29.93/mipt')"
   ]
  },
  {
   "cell_type": "code",
   "execution_count": 19,
   "metadata": {},
   "outputs": [],
   "source": [
    "cur = myconnection.cursor()"
   ]
  },
  {
   "cell_type": "code",
   "execution_count": 48,
   "metadata": {},
   "outputs": [
    {
     "name": "stdout",
     "output_type": "stream",
     "text": [
      "WORD_TO_PM\n",
      "WORDS\n",
      "UNDEFINED_WORDS\n",
      "TEST_WORDS\n",
      "TESTS\n",
      "SIMPLE_RULES\n",
      "RULES\n",
      "PROPOSAL_MEMBERS\n",
      "PART_OF_SPEECH\n",
      "NEW_WORDS\n",
      "EXCEPTIONS\n",
      "CASE_OF_WORD\n",
      "ADD4_R\n",
      "ADD3_R\n"
     ]
    }
   ],
   "source": [
    "# список таблиц в базе\n",
    "\n",
    "cur.execute(\"select table_name from USER_TABLES\")\n",
    "res = cur.fetchall()\n",
    "for row in res:\n",
    "        print(\"{0}\".format(row[0]))"
   ]
  },
  {
   "cell_type": "code",
   "execution_count": 8,
   "metadata": {
    "scrolled": true
   },
   "outputs": [
    {
     "name": "stdout",
     "output_type": "stream",
     "text": [
      "R_ID\n",
      "PRT_L\n",
      "PRT_R\n",
      "SING_L\n",
      "SING_R\n",
      "ANS\n",
      "COMM\n",
      "COW_L\n",
      "COW_R\n",
      "EX\n"
     ]
    }
   ],
   "source": [
    "# вывод списка полей таблицы\n",
    "\n",
    "cur.execute(\"select column_name from user_tab_columns where table_name = 'SIMPLE_RULES'\")\n",
    "res = cur.fetchall()\n",
    "for row in res:\n",
    "        print(\"{0}\".format(row[0]))"
   ]
  },
  {
   "cell_type": "code",
   "execution_count": 117,
   "metadata": {},
   "outputs": [
    {
     "name": "stdout",
     "output_type": "stream",
     "text": [
      "('его', 44876, 30220, 0, 'b', 'Y', '4', 'M', ' ', '3', ' ')\n",
      "('его', 44877, 31342, 0, 'b', 'Y', '2', 'N', ' ', '3', ' ')\n",
      "('его', 44877, 31444, 0, 'b', 'Y', '4', 'N', ' ', '3', ' ')\n",
      "('его', 44878, 1344, 0, '2', 'Y', '2', 'F', ' ', ' ', ' ')\n",
      "('его', 44878, 1956, 0, '2', 'Y', '2', 'N', ' ', ' ', ' ')\n",
      "('его', 44878, 86, 0, '2', 'N', '1', ' ', ' ', ' ', ' ')\n",
      "('его', 44878, 188, 0, '2', 'N', '3', ' ', ' ', ' ', ' ')\n",
      "('его', 44876, 30118, 0, 'b', 'Y', '2', 'M', ' ', '3', ' ')\n",
      "('его', 44878, 681, 0, '2', 'Y', '1', 'M', ' ', ' ', ' ')\n",
      "('его', 44878, 732, 0, '2', 'Y', '2', 'M', ' ', ' ', ' ')\n",
      "('его', 44878, 783, 0, '2', 'Y', '3', 'M', ' ', ' ', ' ')\n",
      "('его', 44878, 834, 0, '2', 'Y', '4', 'M', ' ', ' ', ' ')\n",
      "('его', 44878, 885, 0, '2', 'Y', '5', 'M', ' ', ' ', ' ')\n",
      "('его', 44878, 936, 0, '2', 'Y', '6', 'M', ' ', ' ', ' ')\n",
      "('его', 44878, 1293, 0, '2', 'Y', '1', 'F', ' ', ' ', ' ')\n",
      "('его', 44878, 1395, 0, '2', 'Y', '3', 'F', ' ', ' ', ' ')\n",
      "('его', 44878, 1446, 0, '2', 'Y', '4', 'F', ' ', ' ', ' ')\n",
      "('его', 44878, 1497, 0, '2', 'Y', '5', 'F', ' ', ' ', ' ')\n",
      "('его', 44878, 1548, 0, '2', 'Y', '6', 'F', ' ', ' ', ' ')\n",
      "('его', 44878, 1905, 0, '2', 'Y', '1', 'N', ' ', ' ', ' ')\n",
      "('его', 44878, 2007, 0, '2', 'Y', '3', 'N', ' ', ' ', ' ')\n",
      "('его', 44878, 2058, 0, '2', 'Y', '4', 'N', ' ', ' ', ' ')\n",
      "('его', 44878, 2109, 0, '2', 'Y', '5', 'N', ' ', ' ', ' ')\n",
      "('его', 44878, 2160, 0, '2', 'Y', '6', 'N', ' ', ' ', ' ')\n",
      "('его', 44878, 137, 0, '2', 'N', '2', ' ', ' ', ' ', ' ')\n",
      "('его', 44878, 239, 0, '2', 'N', '4', ' ', ' ', ' ', ' ')\n",
      "('его', 44878, 290, 0, '2', 'N', '5', ' ', ' ', ' ', ' ')\n",
      "('его', 44878, 341, 0, '2', 'N', '6', ' ', ' ', ' ', ' ')\n"
     ]
    }
   ],
   "source": [
    "# вывод информации о конкретном слове\n",
    "\n",
    "cur.execute(\"select * from words where word = 'его'\")\n",
    "res = cur.fetchall()\n",
    "for row in res:\n",
    "    print(row)"
   ]
  },
  {
   "cell_type": "code",
   "execution_count": 37,
   "metadata": {
    "scrolled": true
   },
   "outputs": [
    {
     "name": "stdout",
     "output_type": "stream",
     "text": [
      "(' ', 'неопределено')\n",
      "('1', 'именительный')\n",
      "('2', 'родительный')\n",
      "('3', 'дательный')\n",
      "('4', 'винительный')\n",
      "('5', 'творительный')\n",
      "('6', 'предложный')\n",
      "('7', 'звательный')\n",
      "('8', 'второй родительный')\n",
      "('9', 'второй винительный')\n",
      "('0', 'второй предложный')\n"
     ]
    }
   ],
   "source": [
    "cur.execute(\"select * from case_of_word\")\n",
    "res = cur.fetchall()\n",
    "for row in res:\n",
    "        print(row)"
   ]
  },
  {
   "cell_type": "code",
   "execution_count": 60,
   "metadata": {},
   "outputs": [
    {
     "name": "stdout",
     "output_type": "stream",
     "text": [
      "('1', 'существительное')\n",
      "('2', 'прилагательное полн')\n",
      "('3', 'прилагательное крат')\n",
      "('4', 'прилагательное срав')\n",
      "('5', 'глагол личная форма')\n",
      "('6', 'глагол инфинитив')\n",
      "('7', 'причастие полн')\n",
      "('8', 'причастие крат')\n",
      "('9', 'деепричастие')\n",
      "('0', 'числительное')\n",
      "('a', 'наречие')\n",
      "('b', 'местоимение')\n",
      "('c', 'предикатив')\n",
      "('d', 'предлог')\n",
      "('e', 'союз')\n",
      "('f', 'частица')\n",
      "('g', 'междометие')\n",
      "(' ', 'неопределено')\n"
     ]
    }
   ],
   "source": [
    "cur.execute(\"select * from part_of_speech\")\n",
    "res = cur.fetchall()\n",
    "for row in res:\n",
    "        print(row)"
   ]
  },
  {
   "cell_type": "code",
   "execution_count": 7,
   "metadata": {},
   "outputs": [
    {
     "ename": "DatabaseError",
     "evalue": "ORA-00955: name is already used by an existing object",
     "output_type": "error",
     "traceback": [
      "\u001b[1;31m---------------------------------------------------------------------------\u001b[0m",
      "\u001b[1;31mDatabaseError\u001b[0m                             Traceback (most recent call last)",
      "\u001b[1;32m<ipython-input-7-ea8ba4f68e1b>\u001b[0m in \u001b[0;36m<module>\u001b[1;34m()\u001b[0m\n\u001b[1;32m----> 1\u001b[1;33m \u001b[0mcur\u001b[0m\u001b[1;33m.\u001b[0m\u001b[0mexecute\u001b[0m\u001b[1;33m(\u001b[0m\u001b[1;34m\"create table simple_rules(r_id number(10) NOT NULL, prt_l varchar2(1), prt_r varchar2(1), sing_l varchar2(1), sing_r varchar2(1), ans varchar2(1), comm varchar2(100), constraint sr_pk primary key (r_id))\"\u001b[0m\u001b[1;33m)\u001b[0m\u001b[1;33m\u001b[0m\u001b[0m\n\u001b[0m",
      "\u001b[1;31mDatabaseError\u001b[0m: ORA-00955: name is already used by an existing object"
     ]
    }
   ],
   "source": [
    "cur.execute(\"create table simple_rules(r_id number(10) NOT NULL, prt_l varchar2(1), prt_r varchar2(1), sing_l varchar2(1), sing_r varchar2(1), ans varchar2(1), comm varchar2(100), constraint sr_pk primary key (r_id))\")"
   ]
  },
  {
   "cell_type": "code",
   "execution_count": 28,
   "metadata": {},
   "outputs": [],
   "source": [
    "cur.execute(\"ALTER TABLE simple_rules DROP COLUMN comm\")"
   ]
  },
  {
   "cell_type": "code",
   "execution_count": 12,
   "metadata": {},
   "outputs": [],
   "source": [
    "cur.execute(\"create table add4_r(r4_id number(10) NOT NULL, prt_1 varchar2(1), sing_1 varchar2(1), cow_1 varchar2(1), prt_2 varchar2(1), sing_2 varchar2(1), cow_2 varchar2(1), prt_3 varchar2(1), sing_3 varchar2(1), cow_3 varchar2(1), prt_4 varchar2(1), sing_4 varchar2(1), cow_4 varchar2(1), ans varchar2(1), comm varchar2(1000), ex varchar2(100), constraint sr4_pk primary key (r4_id))\")"
   ]
  },
  {
   "cell_type": "code",
   "execution_count": 128,
   "metadata": {},
   "outputs": [],
   "source": [
    "cur.execute(\"insert into add4_r(r4_id, prt_1, sing_1, cow_1, prt_2, sing_2, cow_2, prt_3, sing_3, cow_3, prt_4, sing_4, cow_4, ans, comm, ex) values (6, '1', 'Y', '1', '1', 'N', '2', '5', 'Y', ' ', 'b', 'Y', '3', 'Y', 'Согласованы сущ. ед. ч. им. пад., сущ. мн. ч. род. пад. и личн. глаг. ед. ч.', 'игра слов нравилась мне')\")"
   ]
  },
  {
   "cell_type": "code",
   "execution_count": 65,
   "metadata": {},
   "outputs": [],
   "source": [
    "cur.execute(\"create table add3_r(r3_id number(10) NOT NULL, prt_1 varchar2(1), sing_1 varchar2(1), cow_1 varchar2(1), prt_2 varchar2(1), sing_2 varchar2(1), cow_2 varchar2(1), prt_3 varchar2(1), sing_3 varchar2(1), cow_3 varchar2(1), ans varchar2(1), comm varchar2(1000), ex varchar2(100), constraint sr3_pk primary key (r3_id))\")"
   ]
  },
  {
   "cell_type": "code",
   "execution_count": 136,
   "metadata": {},
   "outputs": [],
   "source": [
    "cur.execute(\"insert into add3_r(r3_id, prt_1, sing_1, cow_1, prt_2, sing_2, cow_2, prt_3, sing_3, cow_3, ans, comm, ex) values (5, 'b', 'Y', '1', 'b', 'Y', '4', '5', 'Y', ' ', 'Y', 'Согласованы мест ед. ч. им. п., мест. вин. пад. ед. ч., личный глагол ед. ч.', 'оно тебя видит')\")"
   ]
  },
  {
   "cell_type": "code",
   "execution_count": 66,
   "metadata": {},
   "outputs": [],
   "source": [
    "cur.execute(\"drop table simple_rules\")"
   ]
  },
  {
   "cell_type": "code",
   "execution_count": 6,
   "metadata": {},
   "outputs": [],
   "source": [
    "cur.execute(\"ALTER TABLE simple_rules ADD ex varchar2(100)\")"
   ]
  },
  {
   "cell_type": "code",
   "execution_count": null,
   "metadata": {},
   "outputs": [],
   "source": [
    "cur.execute(\"ALTER TABLE simple_rules ADD cow_r CHAR(1)\")"
   ]
  },
  {
   "cell_type": "code",
   "execution_count": 71,
   "metadata": {},
   "outputs": [],
   "source": [
    "cur.execute(\"insert into simple_rules(r_id, prt_l, prt_r, sing_l, sing_r, ans) values (1, 'b', '5', 'N', 'N', 'Y')\")"
   ]
  },
  {
   "cell_type": "code",
   "execution_count": 187,
   "metadata": {},
   "outputs": [],
   "source": [
    "cur.execute(\"insert into simple_rules(r_id, prt_l, prt_r, sing_l, sing_r, ans) values (2, '1', '5', 'Y', 'N', 'N')\")"
   ]
  },
  {
   "cell_type": "code",
   "execution_count": 11,
   "metadata": {},
   "outputs": [],
   "source": [
    "cur.execute(\"insert into simple_rules(r_id, prt_l, prt_r, sing_l, sing_r, ans) values (3, '1', '5', 'Y', 'Y', 'Y')\")"
   ]
  },
  {
   "cell_type": "code",
   "execution_count": 13,
   "metadata": {},
   "outputs": [],
   "source": [
    "cur.execute(\"insert into simple_rules(r_id, prt_l, prt_r, sing_l, sing_r, ans) values (4, 'b', '5', 'Y', 'Y', 'Y')\")"
   ]
  },
  {
   "cell_type": "code",
   "execution_count": 124,
   "metadata": {},
   "outputs": [],
   "source": [
    "cur.execute(\"delete from simple_rules where r_id = 68\")"
   ]
  },
  {
   "cell_type": "code",
   "execution_count": 36,
   "metadata": {},
   "outputs": [],
   "source": [
    "cur.execute(\"insert into simple_rules(r_id, prt_l, prt_r, sing_l, sing_r, ans) values (5, '6', '1', ' ', 'Y', 'Y')\")"
   ]
  },
  {
   "cell_type": "code",
   "execution_count": 41,
   "metadata": {},
   "outputs": [],
   "source": [
    "cur.execute(\"insert into simple_rules(r_id, prt_l, prt_r, sing_l, sing_r, ans) values (6, '5', '6', 'Y', ' ', 'Y')\")"
   ]
  },
  {
   "cell_type": "code",
   "execution_count": 50,
   "metadata": {},
   "outputs": [],
   "source": [
    "cur.execute(\"insert into simple_rules(r_id, prt_l, prt_r, sing_l, sing_r, ans) values (7, '6', 'b', ' ', 'Y', 'Y')\")"
   ]
  },
  {
   "cell_type": "code",
   "execution_count": 57,
   "metadata": {},
   "outputs": [],
   "source": [
    "cur.execute(\"insert into simple_rules(r_id, prt_l, prt_r, sing_l, sing_r, ans) values (8, '6', '1', ' ', 'N', 'Y')\")"
   ]
  },
  {
   "cell_type": "code",
   "execution_count": 60,
   "metadata": {},
   "outputs": [],
   "source": [
    "cur.execute(\"insert into simple_rules(r_id, prt_l, prt_r, sing_l, sing_r, ans) values (9, 'b', '6', 'Y', ' ', 'N')\")"
   ]
  },
  {
   "cell_type": "code",
   "execution_count": 67,
   "metadata": {},
   "outputs": [],
   "source": [
    "cur.execute(\"insert into simple_rules(r_id, prt_l, prt_r, sing_l, sing_r, ans) values (10, 'b', '6', 'N', ' ', 'N')\")"
   ]
  },
  {
   "cell_type": "code",
   "execution_count": 127,
   "metadata": {},
   "outputs": [],
   "source": [
    "cur.execute(\"insert into simple_rules(r_id, prt_l, prt_r, sing_l, sing_r, ans) values (11, '5', '6', 'N', ' ', 'Y')\")"
   ]
  },
  {
   "cell_type": "code",
   "execution_count": 88,
   "metadata": {},
   "outputs": [],
   "source": [
    "cur.execute(\"insert into simple_rules(r_id, prt_l, prt_r, sing_l, sing_r, ans) values (12, 'b', '5', 'N', 'Y', 'N')\")"
   ]
  },
  {
   "cell_type": "code",
   "execution_count": 104,
   "metadata": {},
   "outputs": [],
   "source": [
    "cur.execute(\"insert into simple_rules(r_id, prt_l, prt_r, sing_l, sing_r, ans) values (13, '5', 'b', 'Y', 'Y', 'Y')\")"
   ]
  },
  {
   "cell_type": "code",
   "execution_count": 107,
   "metadata": {},
   "outputs": [],
   "source": [
    "cur.execute(\"insert into simple_rules(r_id, prt_l, prt_r, sing_l, sing_r, ans) values (14, '5', 'b', 'Y', 'N', 'N')\")"
   ]
  },
  {
   "cell_type": "code",
   "execution_count": 113,
   "metadata": {},
   "outputs": [],
   "source": [
    "cur.execute(\"insert into simple_rules(r_id, prt_l, prt_r, sing_l, sing_r, ans) values (15, '5', '1', 'Y', 'N', 'Y')\")"
   ]
  },
  {
   "cell_type": "code",
   "execution_count": 117,
   "metadata": {},
   "outputs": [],
   "source": [
    "cur.execute(\"insert into simple_rules(r_id, prt_l, prt_r, sing_l, sing_r, ans) values (16, '5', '1', 'Y', 'Y', 'Y')\")"
   ]
  },
  {
   "cell_type": "code",
   "execution_count": 134,
   "metadata": {},
   "outputs": [],
   "source": [
    "cur.execute(\"insert into simple_rules(r_id, prt_l, prt_r, sing_l, sing_r, ans) values (17, '5', '1', 'N', 'Y', 'Y')\")"
   ]
  },
  {
   "cell_type": "code",
   "execution_count": 137,
   "metadata": {},
   "outputs": [],
   "source": [
    "cur.execute(\"insert into simple_rules(r_id, prt_l, prt_r, sing_l, sing_r, ans) values (18, '5', '1', 'N', 'N', 'Y')\")"
   ]
  },
  {
   "cell_type": "code",
   "execution_count": 144,
   "metadata": {},
   "outputs": [],
   "source": [
    "cur.execute(\"insert into simple_rules(r_id, prt_l, prt_r, sing_l, sing_r, ans) values (19, '5', 'b', 'N', 'Y', 'Y')\")"
   ]
  },
  {
   "cell_type": "code",
   "execution_count": 154,
   "metadata": {},
   "outputs": [],
   "source": [
    "cur.execute(\"insert into simple_rules(r_id, prt_l, prt_r, sing_l, sing_r, ans) values (20, '5', 'b', 'N', 'N', 'Y')\")"
   ]
  },
  {
   "cell_type": "code",
   "execution_count": 160,
   "metadata": {},
   "outputs": [],
   "source": [
    "cur.execute(\"insert into simple_rules(r_id, prt_l, prt_r, sing_l, sing_r, ans) values (21, '6', 'b', ' ', 'N', 'Y')\")"
   ]
  },
  {
   "cell_type": "code",
   "execution_count": 166,
   "metadata": {},
   "outputs": [],
   "source": [
    "cur.execute(\"insert into simple_rules(r_id, prt_l, prt_r, sing_l, sing_r, ans) values (22, '6', '5', ' ', 'N', 'Y')\")"
   ]
  },
  {
   "cell_type": "code",
   "execution_count": 170,
   "metadata": {},
   "outputs": [],
   "source": [
    "cur.execute(\"insert into simple_rules(r_id, prt_l, prt_r, sing_l, sing_r, ans) values (23, '6', '5', ' ', 'Y', 'Y')\")"
   ]
  },
  {
   "cell_type": "code",
   "execution_count": 192,
   "metadata": {},
   "outputs": [],
   "source": [
    "cur.execute(\"insert into simple_rules(r_id, prt_l, prt_r, sing_l, sing_r, ans) values (24, '1', '6', 'Y', ' ', 'Y')\")"
   ]
  },
  {
   "cell_type": "code",
   "execution_count": 182,
   "metadata": {},
   "outputs": [],
   "source": [
    "cur.execute(\"insert into simple_rules(r_id, prt_l, prt_r, sing_l, sing_r, ans) values (25, '1', '5', 'N', 'N', 'Y')\")"
   ]
  },
  {
   "cell_type": "code",
   "execution_count": 188,
   "metadata": {},
   "outputs": [],
   "source": [
    "cur.execute(\"insert into simple_rules(r_id, prt_l, prt_r, sing_l, sing_r, ans) values (26, '1', '5', 'N', 'Y', 'N')\")"
   ]
  },
  {
   "cell_type": "code",
   "execution_count": 197,
   "metadata": {},
   "outputs": [],
   "source": [
    "cur.execute(\"insert into simple_rules(r_id, prt_l, prt_r, sing_l, sing_r, ans) values (27, '1', '6', 'N', ' ', 'Y')\")"
   ]
  },
  {
   "cell_type": "code",
   "execution_count": 203,
   "metadata": {},
   "outputs": [],
   "source": [
    "cur.execute(\"insert into simple_rules(r_id, prt_l, prt_r, sing_l, sing_r, ans) values (28, 'b', '5', 'Y', 'N', 'N')\")"
   ]
  },
  {
   "cell_type": "code",
   "execution_count": 45,
   "metadata": {},
   "outputs": [],
   "source": [
    "cur.execute(\"insert into simple_rules(r_id, prt_l, prt_r, sing_l, sing_r, ans, cow_l, cow_r, comm) values (29, 'b', '5', 'Y', 'N', 'Y', '2', ' ', 'Если после местоимения в род. падеже ед. ч. идёт личный глагол во множественном числе, то время согласовано')\")"
   ]
  },
  {
   "cell_type": "code",
   "execution_count": 30,
   "metadata": {},
   "outputs": [],
   "source": [
    "cur.execute(\"insert into simple_rules(r_id, prt_l, prt_r, sing_l, sing_r, ans, cow_l, cow_r, comm, ex) values (46, '5', 'b', 'N', 'Y', 'Y', ' ', '3', 'Если после личного глагола во мн. ч. идёт местоимение в дат. падеже ед. ч., то время согласовано', 'помогли мне')\")"
   ]
  },
  {
   "cell_type": "code",
   "execution_count": 118,
   "metadata": {},
   "outputs": [],
   "source": [
    "cur.execute(\"insert into simple_rules(r_id, prt_l, prt_r, sing_l, sing_r, ans, cow_l, cow_r, comm, ex) values (68, '1', '5', 'N', 'Y', 'Y', '1', '1', 'Если после мест. им. пад. ед. ч. идёт сущ. им. пад. ед. ч., то время согласовано', 'его игра (слов)')\")"
   ]
  },
  {
   "cell_type": "code",
   "execution_count": 119,
   "metadata": {},
   "outputs": [
    {
     "name": "stdout",
     "output_type": "stream",
     "text": [
      "(1, 'b', '5', 'N', 'N', 'Y', '1', ' ', 'Если после местоимения в имен. падеже мн. ч. идёт личный глагол во множественном числе, то время согласовано', 'мы делали')\n",
      "(2, '1', '5', 'Y', 'N', 'N', '1', ' ', 'Если после существительного в имен. падеже ед. ч. идёт личный глагол во множественном числе, то время не согласовано', 'собака лаяли')\n",
      "(3, '1', '5', 'Y', 'Y', 'Y', '1', ' ', 'Если после существительного в имен. падеже ед. ч. идёт личный глагол в единственном числе, то время согласовано', 'самолёт летит')\n",
      "(4, 'b', '5', 'Y', 'Y', 'Y', '1', ' ', 'Если после местоимения в им. падеже ед.ч. идёт личный глагол в единственном числе, то время согласовано', 'я делаю')\n",
      "(5, '6', '1', ' ', 'Y', 'Y', ' ', '4', 'Если после инфинитива идёт существительное в вин. падеже ед. ч., то время согласовано', 'делать дело')\n",
      "(6, '5', '6', 'Y', ' ', 'Y', ' ', ' ', 'Если после личного глагола ед.ч. идёт инфинитив, то время согласовано', 'хочет есть')\n",
      "(7, '6', 'b', ' ', 'Y', 'Y', ' ', '2', 'Если после инфинитива идёт местоимение в род. падеже ед. ч., то время согласовано', 'убить его')\n",
      "(8, '6', '1', ' ', 'N', 'Y', ' ', '5', 'Если после инфинитива идёт существительное в твор. падеже мн. ч., то время согласовано', 'гордиться родителями')\n",
      "(9, 'b', '6', 'Y', ' ', 'N', '1', ' ', 'Если после местоимения в им. падеже ед. ч. идёт инфинитив, то время не согласовано', 'я хотеть')\n",
      "(10, 'b', '6', 'N', ' ', 'Y', '1', ' ', 'Если после местоимения в имен. падеже мн. ч. идёт инфинитив, то время не согласовано', 'вы есть')\n",
      "(11, '5', '6', 'N', ' ', 'Y', ' ', ' ', 'Если после личного глагола во мн. ч. идёт инфинитив, то время согласовано', 'пришёл договориться')\n",
      "(12, 'b', '5', 'N', 'Y', 'N', '1', ' ', 'Если после местоимения в им. падеже мн. ч. идёт личный глагол в ед. ч., то время не согласовано', 'мы писал')\n",
      "(13, '5', 'b', 'Y', 'Y', 'Y', ' ', '2', 'Если после личного глагола в ед. ч. идёт местоимение в род. падеже ед. ч., то время согласовано', 'победил меня')\n",
      "(14, '5', 'b', 'Y', 'N', 'N', ' ', '1', 'Если после личного глагола в ед. ч. идёт местоимение в им. падеже мн. ч., то время не согласовано', 'победил мы')\n",
      "(15, '5', '1', 'Y', 'N', 'N', ' ', '1', 'Если после личного глагола в ед. ч. идёт существительное в им. падеже мн. ч., то время не согласовано', 'кормил собаки')\n",
      "(16, '5', '1', 'Y', 'Y', 'Y', ' ', '1', 'Если после личного глагола в ед. ч. идёт существительное в им. падеже ед. ч., то время согласовано', 'бежал человек')\n",
      "(17, '5', '1', 'N', 'Y', 'N', ' ', '1', 'Если после личного глагола во мн. ч. идёт существительное в им. падеже ед. ч., то время не согласовано', 'бегут собака')\n",
      "(18, '5', '1', 'N', 'N', 'Y', ' ', '1', 'Если после личного глагола во мн. ч. идёт существительное в им. падеже мн. ч., то время согласовано', 'бежали собаки')\n",
      "(19, '5', 'b', 'N', 'Y', 'N', ' ', '1', 'Если после личного глагола во мн. ч. идёт местоимение в им. падеже ед. ч., то время не согласовано', 'бежали я')\n",
      "(20, '5', 'b', 'N', 'N', 'Y', ' ', '1', 'Если после личного глагола во мн. ч. идёт местоимение в им. падеже мн. ч., то время согласовано', 'бежали мы')\n",
      "(21, '6', 'b', ' ', 'N', 'Y', ' ', '2', 'Если после инфинитива идёт местоимение в род. п. мн. ч, то время согласовано', 'укусить нас')\n",
      "(22, '6', '5', ' ', 'N', 'N', ' ', ' ', 'Если после инфинитива идёт личный глагол во множественном числе, то время не согласовано', 'видеть хотели')\n",
      "(23, '6', '5', ' ', 'Y', 'N', ' ', ' ', 'Если после инфинитива идёт личный глагол в единственном числе, то время согласовано', 'быть хотел')\n",
      "(24, '1', '6', 'Y', ' ', 'Y', '3', ' ', 'Если после существительного в дат. падеже ед. ч. идёт инфинитив, то время согласовано', 'чуду быть')\n",
      "(25, '1', '5', 'N', 'N', 'Y', '1', ' ', 'Если после существительного в им. падеже мн. ч. идёт личный глагол во мн. ч., то время согласовано', 'люди делали')\n",
      "(26, '1', '5', 'N', 'Y', 'N', '1', ' ', 'Если после существительного в им. падеже мн. ч. идёт личный глагол в ед. ч., то время не согласовано', 'учителя учил')\n",
      "(27, '1', '6', 'N', ' ', 'Y', '3', ' ', 'Если после существительного в дат. падеже мн. ч. идёт инфинитив, то время согласовано', 'праздникам быть')\n",
      "(28, 'b', '5', 'Y', 'N', 'N', '1', ' ', 'Если после местоимения в им. падеже ед. ч. идёт личный глагол во мн. ч., то время не согласовано', 'я делали')\n",
      "(29, 'b', '5', 'Y', 'N', 'Y', '2', ' ', 'Если после местоимения в род. падеже ед. ч. идёт личный глагол во множественном числе, то время согласовано', 'меня ранили')\n",
      "(30, 'b', '5', 'Y', 'N', 'Y', '3', ' ', 'Если после местоимения в дат. падеже ед. ч. идёт личный глагол во множественном числе, то время согласовано', 'мне позволили')\n",
      "(31, '5', 'b', 'N', 'Y', 'Y', ' ', '2', 'Если после личного глагола во мн. ч. идёт местоимение в род. падеже ед. ч., то время согласовано', 'переиграли меня')\n",
      "(32, '5', 'b', 'N', 'N', 'Y', ' ', '2', 'Если после личного глагола в мн. ч. идёт местоимение в род. падеже мн. ч., то время согласовано', 'позвали нас')\n",
      "(33, '5', '1', 'Y', 'N', 'Y', ' ', '4', 'Если после личного глагола в ед. ч. идёт существительное в вин. падеже мн. ч., то время согласовано', 'вижу кошек')\n",
      "(34, '5', '1', 'N', 'N', 'Y', ' ', '2', 'Если после личного глагола во мн. ч. идёт существительное в род. падеже мн. ч., то время согласовано', 'позвали друзей')\n",
      "(35, '1', '1', 'Y', 'Y', 'Y', '1', '3', 'Если после существительного в им. падеже ед. ч. идёт существительное в дат. падеже ед. ч., то время согласовано', 'человек собаке')\n",
      "(36, '6', '1', ' ', 'N', 'Y', ' ', '2', 'Если после инфинитива идёт существительное в род. падеже мн. ч., то время согласовано', 'кормить свиней')\n",
      "(37, '6', '6', ' ', ' ', 'Y', ' ', ' ', 'Если после инфинитива идёт инфинитив, то время согласовано', 'хотеть пить')\n",
      "(38, '5', 'b', 'Y', 'N', 'Y', ' ', '2', 'Если после личного глагола в ед.ч. идёт местоимение в род. падеже мн. ч., то время согласовано', 'дисквалифицировал их')\n",
      "(39, '6', '1', ' ', 'Y', 'Y', ' ', '3', 'Если после инфинитива идёт существительное в дат. падеже ед. ч., то время согласовано', 'дать человеку')\n",
      "(40, '1', '1', 'Y', 'Y', 'Y', '1', '4', 'Если после существительного в им. падеже ед. ч. идёт существительное в вин. падеже ед. ч., то время согласовано', 'дурак дурака')\n",
      "(41, '6', 'b', ' ', 'Y', 'Y', ' ', '3', 'Если после инфинитива идёт местоимение в дат. падеже ед. ч., то время согласовано', 'купить себе')\n",
      "(42, '6', 'b', ' ', 'Y', 'Y', ' ', '5', 'Если после инфинитива идёт местоимение в твор. падеже ед. ч., то время согласовано', 'быть собой')\n",
      "(43, '5', '1', 'Y', 'Y', 'N', ' ', '2', 'Если после личного глагола в ед. ч. идёт существительное в род. падеже ед. ч., то время не согласовано', 'кормил собаки')\n",
      "(44, '5', '1', 'Y', 'Y', 'Y', ' ', '4', 'Если после личного глагола в ед. ч. идёт существительное в вин. падеже ед. ч., то время согласовано', 'кормил собаку')\n",
      "(45, '5', 'b', 'Y', 'Y', 'Y', ' ', '3', 'Если после личного глагола в ед. ч. идёт местоимение в дат. падеже ед. ч., то время согласовано', 'помог мне')\n",
      "(46, '5', 'b', 'N', 'Y', 'Y', ' ', '3', 'Если после личного глагола во мн. ч. идёт местоимение в дат. падеже ед. ч., то время согласовано', 'помогли мне')\n",
      "(47, '6', '1', ' ', 'Y', 'Y', ' ', '5', 'Если после инфинитива идёт существительное в твор. падеже ед. ч., то время согласовано', 'быть программистом')\n",
      "(48, 'b', 'b', 'Y', 'Y', 'Y', '1', '2', 'Если после местоимения в им. падеже ед.ч. идёт местоимение в род. падеже ед. ч., то время согласовано', 'он меня')\n",
      "(49, '1', '5', 'Y', 'Y', 'Y', '4', ' ', 'Если после существительного в вин. падеже ед.ч. идёт личный глагол ед. ч., то время согласовано', 'дурака видит')\n",
      "(50, 'b', '1', 'Y', 'Y', 'Y', '1', '4', 'Если после местоимения в им. падеже ед.ч. идёт существительное в вин. падеже ед. ч., то время согласовано', 'он руку')\n",
      "(51, '1', '5', 'Y', 'N', 'Y', '4', ' ', 'Если после существительного в вин. падеже ед.ч. идёт личный глагол ед. ч., то время согласовано', 'руку моют')\n",
      "(52, '1', '1', 'N', 'Y', 'Y', '4', '1', 'Если после сущ. вин. п. мн.ч. идёт сущ. им. пад. ед. ч., то время согласовано', '(губит) людей вода')\n",
      "(53, 'b', '4', 'Y', 'Y', 'Y', '1', '1', 'Если после мест. им. п. ед.ч. идёт сущ. им. пад. ед. ч., то время согласовано', 'я храм (воздвиг)')\n",
      "(54, '1', 'b', 'Y', 'Y', 'Y', '1', '3', 'Если после сущ. им. п. ед.ч. идёт мест. дат. пад. ед. ч., то время согласовано', 'ребенок себе (приготовил)')\n",
      "(55, 'b', '5', 'Y', 'Y', 'Y', '3', ' ', 'Если после мест. дат. п. ед.ч. идёт личный глаг. ед. ч., то время согласовано', 'себе воздвиг')\n",
      "(56, '5', 'b', 'Y', 'N', 'Y', ' ', '5', 'Если после личного гл. ед.ч. идёт мест. мн. ч. тв. пад, то время согласовано', 'играет нами')\n",
      "(57, '5', 'b', 'Y', 'Y', 'Y', ' ', '5', 'Если после личного гл. ед.ч. идёт мест. ед. ч. тв. пад, то время согласовано', 'гордится мной')\n",
      "(58, '5', 'b', 'N', 'Y', 'Y', ' ', '5', 'Если после личного гл. мн.ч. идёт мест. ед. ч. тв. пад, то время согласовано', 'гордятся мной')\n",
      "(59, 'b', '1', 'Y', 'N', 'Y', '1', '4', 'Если после мест. им. п. ед.ч. идёт сущ. ед. ч. вин. пад, то время согласовано', 'он руки (моет)')\n",
      "(60, '1', '1', 'N', 'Y', 'Y', '1', '4', 'Если после существительного в им. падеже мн.ч. идёт существительное в вин. падеже ед. ч., то время согласовано', 'руки руку')\n",
      "(61, '6', '1', ' ', 'N', 'Y', ' ', '4', 'Если после инфинитива идёт сущ. мн. ч. вин. пад, то время согласовано', '(велел) тащить пелёнки')\n",
      "(62, '1', 'b', 'N', 'Y', 'Y', '1', '4', 'Если после сущ. им. пад. мн. ч. идёт мест. ед. ч. вин. пад, то время согласовано', 'дети его (обожали)')\n",
      "(63, 'b', 'b', 'Y', 'Y', 'Y', '1', '3', 'Если после мест. им. пад. ед. ч. идёт мест. дат. пад. ед. ч., то время согласовано', 'ты мне (должен)')\n",
      "(64, '5', 'b', 'Y', 'Y', 'Y', ' ', '1', 'Если после личного глаг. ед. ч. идёт мест. им. пад. ед. ч., то время согласовано', '(в лесу) родился я')\n",
      "(65, '1', '1', 'Y', 'Y', 'Y', '2', '2', 'Если после сущ. род. пад. ед. ч. идёт сущ. род. пад. ед. ч., то время согласовано', '(внимая тихий взгляд) певца любви')\n",
      "(66, 'b', '5', 'Y', 'Y', 'Y', '4', ' ', 'Если после мест. вин. пад. ед. ч. идёт личн. глаг. ед. ч., то время согласовано', '(оно) тебя видит')\n",
      "(67, '1', '1', 'Y', 'N', 'Y', '1', '2', 'Если после сущ. им. пад. ед. ч. идёт сущ. род. пад. ед. ч., то время согласовано', 'игра слов')\n",
      "(68, 'b', '1', 'Y', 'Y', 'Y', '1', '1', 'Если после мест. им. пад. ед. ч. идёт сущ. им. пад. ед. ч., то время согласовано', 'его игра (слов)')\n"
     ]
    }
   ],
   "source": [
    "cur.execute(\"select * from simple_rules order by r_id\")\n",
    "res = cur.fetchall()\n",
    "for row in res:\n",
    "        print(row)"
   ]
  },
  {
   "cell_type": "code",
   "execution_count": 127,
   "metadata": {
    "scrolled": true
   },
   "outputs": [
    {
     "name": "stdout",
     "output_type": "stream",
     "text": [
      "(1, 'b', 'Y', '1', '5', 'Y', ' ', '6', ' ', ' ', '1', 'N', '5', 'N', 'Не согласованы местоимение в единственном числе именительном падеже и существительное во множественном числе (между ними глаг + инф)', 'он хотел быть учителями')\n",
      "(2, 'b', 'Y', '1', '1', 'Y', '4', 'b', 'Y', '3', '5', 'N', ' ', 'N', 'Не согласованы местоимение в единственном числе именительном падеже и личный глагол во множественном числе (между ними сущ. + мест.)', 'я храм себе воздвигли')\n",
      "(3, 'b', 'N', '1', '5', 'N', ' ', '6', ' ', ' ', '1', 'Y', '5', 'N', 'Не согласованы местоимение во множ. числе именительном падеже и сущ. ед. ч. твор. пад. (между личн. глаг. + инф.)', 'они хотели быть учителем')\n",
      "(4, '1', 'Y', '1', '5', 'Y', ' ', '6', ' ', ' ', '1', 'N', '5', 'N', 'Не согласованы сущ. ед. ч. им. пад. и сущ. мн. ч. твор. пад. (между личн. глаг. + инф.)', 'борис хотел быть учителями')\n",
      "(5, '1', 'N', '1', '5', 'N', ' ', '6', ' ', ' ', '1', 'Y', '5', 'N', 'Не согласованы сущ. мн. ч. им. пад. и сущ. ед. ч. твор. пад. (между личн. глаг. + инф.)', 'птицы хотели быть рыбой')\n"
     ]
    }
   ],
   "source": [
    "cur.execute(\"select * from add4_r\")\n",
    "res = cur.fetchall()\n",
    "for row in res:\n",
    "        print(row)"
   ]
  },
  {
   "cell_type": "code",
   "execution_count": 103,
   "metadata": {},
   "outputs": [
    {
     "name": "stdout",
     "output_type": "stream",
     "text": [
      "(1, 'b', 'Y', '1', '1', 'Y', '4', '5', 'N', ' ', 'N', 'Не согласованы местоимение в единственном числе именительном падеже и личный глагом во множественном числе (между ними сущ. ед. ч. вин. п.)', 'он руку моют')\n",
      "(2, 'b', 'Y', '1', '1', 'N', '4', '5', 'N', ' ', 'N', 'Не согласованы местоимение в единственном числе именительном падеже и личный глагом во множественном числе (между ними сущ. мн. ч. вин. п.)', 'он руки моют')\n",
      "(3, '1', 'N', '1', '1', 'Y', '4', '5', 'Y', ' ', 'N', 'Не согласованы сущ. мн. ч. им. п. и личный глагол ед. ч. (между ними сущ. ед. ч. вин. п.)', 'руки руку моет')\n",
      "(4, 'b', 'Y', '1', '1', 'N', '4', '5', 'Y', ' ', 'Y', 'Согласованы сущ. ед. ч. им. п. и личный глагол ед. ч. (между ними сущ. мн. ч. вин. п.)', 'он руки моет')\n",
      "(5, 'b', 'Y', '1', 'b', 'Y', '4', '5', 'Y', ' ', 'Y', 'Согласованы мест ед. ч. им. п., мест. вин. пад. ед. ч., личный глагол ед. ч.', 'оно тебя видит')\n"
     ]
    }
   ],
   "source": [
    "cur.execute(\"select * from add3_r order by r3_id\")\n",
    "res = cur.fetchall()\n",
    "for row in res:\n",
    "        print(row)"
   ]
  },
  {
   "cell_type": "code",
   "execution_count": 76,
   "metadata": {},
   "outputs": [],
   "source": [
    "cur.execute(\"update add3_r set comm = 'Не согласованы сущ. мн. ч. им. п. и личный глагол ед. ч. (между ними сущ. ед. ч. вин. п.)' where r3_id = 3\")"
   ]
  },
  {
   "cell_type": "code",
   "execution_count": 296,
   "metadata": {},
   "outputs": [],
   "source": [
    "cur.execute(\"update simple_rules set cow_r = '4', cow_l = '1' where r_id = 40\")"
   ]
  },
  {
   "cell_type": "code",
   "execution_count": 212,
   "metadata": {},
   "outputs": [],
   "source": [
    "cur.execute(\"update simple_rules set cow_r = '3' where r_id = 35\")"
   ]
  },
  {
   "cell_type": "code",
   "execution_count": 294,
   "metadata": {},
   "outputs": [],
   "source": [
    "cur.execute(\"update simple_rules set comm = 'Если после существительного в им. падеже ед. ч. идёт существительное в вин. падеже ед. ч., то время согласовано', ans = 'Y', ex = 'дурак дурака' where r_id = 40\")"
   ]
  },
  {
   "cell_type": "code",
   "execution_count": 71,
   "metadata": {},
   "outputs": [],
   "source": [
    "myconnection.rollback()"
   ]
  },
  {
   "cell_type": "code",
   "execution_count": 43,
   "metadata": {},
   "outputs": [],
   "source": [
    "cur.execute(\"update simple_rules set comm = 'Если после личного гл. ед.ч. идёт мест. ед. ч. тв. пад, то время согласовано', ex = 'гордится мной', cow_l = ' ', cow_r = '5' where r_id = 57\")"
   ]
  },
  {
   "cell_type": "code",
   "execution_count": 11,
   "metadata": {},
   "outputs": [],
   "source": [
    "def str_p(l):\n",
    "    l1 = []\n",
    "    for i in l:\n",
    "        if i.find(',') != -1:\n",
    "            l1.append(i[0:-1])\n",
    "            l1.append(',')\n",
    "        else:\n",
    "            l1.append(i)\n",
    "    return l1"
   ]
  },
  {
   "cell_type": "code",
   "execution_count": 104,
   "metadata": {},
   "outputs": [],
   "source": [
    "def check(str):\n",
    "    lst = str.split() # разбиваем предложение на слова\n",
    "    lst = str_p(lst) # отделяем запятые\n",
    "    result = [] # здесь будут варианты ответа\n",
    "    #prep = []\n",
    "    #pand = []\n",
    "    #k = 0\n",
    "    #for i in lst:\n",
    "    #    if i == ',':\n",
    "    #        prep.append(k)\n",
    "    #    elif i == 'и':\n",
    "    #        pand.append(k)\n",
    "    #    k += 1\n",
    "    if len(lst) > 3:\n",
    "        for i in range(0, len(lst) - 3):\n",
    "            cur.execute(\"select pos, singular, cow from words where word = '%s'\" % lst[i])\n",
    "            res1 = cur.fetchall()\n",
    "            res1 = list(set(res1))\n",
    "            cur.execute(\"select pos, singular, cow from words where word = '%s'\" % lst[i + 1])\n",
    "            res2 = cur.fetchall()\n",
    "            res2 = list(set(res2))\n",
    "            cur.execute(\"select pos, singular, cow from words where word = '%s'\" % lst[i + 2])\n",
    "            res3 = cur.fetchall()\n",
    "            res3 = list(set(res3))\n",
    "            cur.execute(\"select pos, singular, cow from words where word = '%s'\" % lst[i + 3])\n",
    "            res4 = cur.fetchall()\n",
    "            res4 = list(set(res4))\n",
    "            if len(res1) > 0:\n",
    "                for i1 in res1:\n",
    "                    for i2 in res2:\n",
    "                        for i3 in res3:\n",
    "                            for i4 in res4:\n",
    "                                cur.execute(\"select ans from add4_r where prt_1 = '{}' and sing_1 = '{}' and cow_1 = '{}' and prt_2 = '{}' and sing_2 = '{}' and cow_2 = '{}' and prt_3 = '{}' and sing_3 = '{}' and cow_3 = '{}' and prt_4 = '{}' and sing_4 = '{}' and cow_4 = '{}'\".format(i1[0], i1[1], i1[2], i2[0], i2[1], i2[2],i3[0], i3[1], i3[2],i4[0], i4[1], i4[2]))\n",
    "                                res = cur.fetchall()\n",
    "                                res = list(set(res))\n",
    "                                if len(res) > 0:\n",
    "                                    for r in res:\n",
    "                                        result.append(r[0])\n",
    "            result = list(set(result))\n",
    "            if len(result) > 0:\n",
    "                if 'N' in result:\n",
    "                    return result\n",
    "    if len(lst) > 2:\n",
    "        for i in range(0, len(lst) - 2):\n",
    "            cur.execute(\"select pos, singular, cow from words where word = '%s'\" % lst[i])\n",
    "            res1 = cur.fetchall()\n",
    "            res1 = list(set(res1))\n",
    "            cur.execute(\"select pos, singular, cow from words where word = '%s'\" % lst[i + 1])\n",
    "            res2 = cur.fetchall()\n",
    "            res2 = list(set(res2))\n",
    "            cur.execute(\"select pos, singular, cow from words where word = '%s'\" % lst[i + 2])\n",
    "            res3 = cur.fetchall()\n",
    "            res3 = list(set(res3))\n",
    "            if len(res1) > 0:\n",
    "                for i1 in res1:\n",
    "                    for i2 in res2:\n",
    "                        for i3 in res3:\n",
    "                            cur.execute(\"select ans from add3_r where prt_1 = '{}' and sing_1 = '{}' and cow_1 = '{}' and prt_2 = '{}' and sing_2 = '{}' and cow_2 = '{}' and prt_3 = '{}' and sing_3 = '{}' and cow_3 = '{}'\".format(i1[0], i1[1], i1[2], i2[0], i2[1], i2[2],i3[0], i3[1], i3[2]))\n",
    "                            res = cur.fetchall()\n",
    "                            res = list(set(res))\n",
    "                            if len(res) > 0:\n",
    "                                for r in res:\n",
    "                                    result.append(r[0])\n",
    "            result = list(set(result))\n",
    "            if len(result) > 0:\n",
    "                if 'N' in result:\n",
    "                    return result\n",
    "    for q in range(len(lst) - 1):\n",
    "        ans1 = [] \n",
    "        cur.execute(\"select pos, singular, cow from words where word = '%s'\" % lst[q])\n",
    "        res_l = cur.fetchall()\n",
    "        res_l = list(set(res_l))\n",
    "\n",
    "        cur.execute(\"select pos, singular, cow from words where word = '%s'\" % lst[q + 1])\n",
    "        res_r = cur.fetchall()\n",
    "        res_r = list(set(res_r))\n",
    "        print(res_l, res_r)\n",
    "        for i in res_l:\n",
    "            for j in res_r:\n",
    "                cur.execute(\"select ans, comm, ex, r_id from simple_rules where prt_l = '{}' and prt_r = '{}' and sing_l = '{}' and sing_r = '{}' and cow_l = '{}' and cow_r = '{}'\".format(i[0], j[0], i[1], j[1], i[2], j[2]))\n",
    "                res = cur.fetchall()\n",
    "                res = list(set(res))\n",
    "                print(res)\n",
    "                if len(res) > 0:\n",
    "                    for k in res:\n",
    "                        ans1.append(k[0]) \n",
    "        if 'Y' in ans1:\n",
    "            result.append('Y')\n",
    "        elif 'N' in ans1:\n",
    "            result.append('N')\n",
    "        else:\n",
    "            result.append('E')\n",
    "    print(\"Результат прохода: \", result)\n",
    "    return set(result)"
   ]
  },
  {
   "cell_type": "code",
   "execution_count": 126,
   "metadata": {},
   "outputs": [],
   "source": [
    "def spl(str):\n",
    "    l = check(str)\n",
    "    if len(str) == len(l):\n",
    "        if 'E' in l:\n",
    "            print(\"Есть незнакакомые сочетания\")\n",
    "        elif 'N' in l:\n",
    "            print(\"Ошибка в согласовании единственного и множественного числа\")\n",
    "        else:\n",
    "            print(\"Ошибок в согласовании единственного и множественного числа нет\")\n",
    "    else:\n",
    "        if 'N' in l:\n",
    "            print(\"Ошибка в согласовании единственного и множественного числа\")\n",
    "        elif 'Y' in l:\n",
    "            print(\"Ошибок в согласовании единственного и множественного числа нет\")\n",
    "        else:\n",
    "            print(\"Есть незнакакомые сочетания\")"
   ]
  },
  {
   "cell_type": "code",
   "execution_count": 131,
   "metadata": {},
   "outputs": [],
   "source": [
    "def res(str):\n",
    "    l = str.split(\".\")\n",
    "    for i in l:\n",
    "        if i.split() != []:\n",
    "            spl(i)"
   ]
  },
  {
   "cell_type": "code",
   "execution_count": 133,
   "metadata": {
    "scrolled": true
   },
   "outputs": [
    {
     "name": "stdout",
     "output_type": "stream",
     "text": [
      "[('1', 'Y', '1')] [('1', 'N', '2')]\n",
      "[('Y', 'Если после сущ. им. пад. ед. ч. идёт сущ. род. пад. ед. ч., то время согласовано', 'игра слов', 67)]\n",
      "Результат прохода:  ['Y']\n",
      "Ошибок в согласовании единственного и множественного числа нет\n"
     ]
    }
   ],
   "source": [
    "res(\"игра слов\")"
   ]
  },
  {
   "cell_type": "code",
   "execution_count": 129,
   "metadata": {},
   "outputs": [],
   "source": [
    "myconnection.commit()"
   ]
  },
  {
   "cell_type": "code",
   "execution_count": 144,
   "metadata": {},
   "outputs": [],
   "source": [
    "myconnection.close()"
   ]
  }
 ],
 "metadata": {
  "kernelspec": {
   "display_name": "Python 3",
   "language": "python",
   "name": "python3"
  },
  "language_info": {
   "codemirror_mode": {
    "name": "ipython",
    "version": 3
   },
   "file_extension": ".py",
   "mimetype": "text/x-python",
   "name": "python",
   "nbconvert_exporter": "python",
   "pygments_lexer": "ipython3",
   "version": "3.6.4"
  }
 },
 "nbformat": 4,
 "nbformat_minor": 2
}

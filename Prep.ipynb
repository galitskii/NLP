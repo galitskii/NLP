{
 "cells": [
  {
   "cell_type": "code",
   "execution_count": 1,
   "metadata": {},
   "outputs": [],
   "source": [
    "import cx_Oracle\n",
    "myconnection = cx_Oracle.connect('lexis/lexis@93.175.29.93/mipt')\n",
    "cur = myconnection.cursor()"
   ]
  },
  {
   "cell_type": "code",
   "execution_count": 2,
   "metadata": {},
   "outputs": [],
   "source": [
    "# функция возвращает строку, расставив пробелы между знаками препинания\n",
    "def space(str1):\n",
    "    str2 = ''\n",
    "    for i in range(len(str1)):\n",
    "        if str1[i] in [',']:\n",
    "            str2 += ' '\n",
    "        str2 += str1[i]\n",
    "    return str2"
   ]
  },
  {
   "cell_type": "code",
   "execution_count": 19,
   "metadata": {},
   "outputs": [],
   "source": [
    "def comma(l):\n",
    "    l = l.split()\n",
    "    if 'и' in l:\n",
    "        id = l.index('и')\n",
    "        part = []\n",
    "        if l[id - 2] == ',':\n",
    "            cur.execute(\"select pos, singular, cow from words where word = '%s'\" % l[id - 1])\n",
    "            res_l = cur.fetchall()\n",
    "            res_l = list(set(res_l))\n",
    "            print(res_l)\n",
    "            for i in res_l:\n",
    "                if i[0] == '5':\n",
    "                    part = part + ['5']\n",
    "                elif i[0] == '1':\n",
    "                    part = part + ['1']\n",
    "                elif i[0] == '6':\n",
    "                    part = part + ['6']\n",
    "                elif i[0] == 'b':\n",
    "                    part = part + ['b']\n",
    "        part = list(set(part))\n",
    "        #print(part)\n",
    "        if '6' in part:\n",
    "            cur.execute(\"select pos, singular, cow from words where word = '%s'\" % l[id + 1])\n",
    "            res1 = cur.fetchall()\n",
    "            res1 = list(set(res1))\n",
    "            print(res1)\n",
    "            if id + 2 < len(l):\n",
    "                cur.execute(\"select pos, singular, cow from words where word = '%s'\" % l[id + 2])\n",
    "                res2 = cur.fetchall()\n",
    "                res2 = list(set(res2))\n",
    "                print(res2)\n",
    "            if id + 3 < len(l):\n",
    "                cur.execute(\"select pos, singular, cow from words where word = '%s'\" % l[id + 3])\n",
    "                res3 = cur.fetchall()\n",
    "                res3 = list(set(res3))\n",
    "                print(res3)\n",
    "            for j in res1:\n",
    "                if j[0] == '6':\n",
    "                    #print(\"OK\")\n",
    "                    break\n",
    "            q = id\n",
    "            while q > 0:\n",
    "                cor = 0\n",
    "                if (l[q - 2] == ','):\n",
    "                    cur.execute(\"select pos, singular, cow from words where word = '%s'\" % l[q - 1])\n",
    "                    res4 = cur.fetchall()\n",
    "                    res4 = list(set(res4))\n",
    "                    for s in res4:\n",
    "                        if s[0] == '6':\n",
    "                            cor = 1\n",
    "                            break\n",
    "                    if cor == 1:\n",
    "                        q = q - 2\n",
    "                    else:\n",
    "                        return ['N']\n",
    "                    #print(res4, \"!!!\")\n",
    "                elif (l[id - 2] == ','):\n",
    "                    q = id - 3\n",
    "                elif (l[id - 2] == ','):\n",
    "                    q = id - 4\n",
    "                q = -1\n",
    "    return l"
   ]
  },
  {
   "cell_type": "code",
   "execution_count": 12,
   "metadata": {},
   "outputs": [],
   "source": [
    "def two(lst):\n",
    "    result = []\n",
    "    for q in range(len(lst) - 1):\n",
    "        ans1 = [] \n",
    "        cur.execute(\"select pos, singular, cow from words where word = '%s'\" % lst[q])\n",
    "        res_l = cur.fetchall()\n",
    "        res_l = list(set(res_l))\n",
    "\n",
    "        cur.execute(\"select pos, singular, cow from words where word = '%s'\" % lst[q + 1])\n",
    "        res_r = cur.fetchall()\n",
    "        res_r = list(set(res_r))\n",
    "        #print(res_l, res_r)\n",
    "        for i in res_l:\n",
    "            for j in res_r:\n",
    "                cur.execute(\"select ans, comm, ex, r_id from simple_rules where prt_l = '{}' and prt_r = '{}' and sing_l = '{}' and sing_r = '{}' and cow_l = '{}' and cow_r = '{}'\".format(i[0], j[0], i[1], j[1], i[2], j[2]))\n",
    "                res = cur.fetchall()\n",
    "                res = list(set(res))\n",
    "                #print(res)\n",
    "                if len(res) > 0:\n",
    "                    for k in res:\n",
    "                        ans1.append(k[0])\n",
    "        if 'Y' in ans1:\n",
    "            result.append('Y')\n",
    "        elif 'N' in ans1:\n",
    "            result.append('N')\n",
    "        else:\n",
    "            result.append('E')\n",
    "    return result"
   ]
  },
  {
   "cell_type": "code",
   "execution_count": 13,
   "metadata": {},
   "outputs": [],
   "source": [
    "def three(lst):\n",
    "    result = []\n",
    "    for i in range(0, len(lst) - 2):\n",
    "            cur.execute(\"select pos, singular, cow from words where word = '%s'\" % lst[i])\n",
    "            res1 = cur.fetchall()\n",
    "            res1 = list(set(res1))\n",
    "            cur.execute(\"select pos, singular, cow from words where word = '%s'\" % lst[i + 1])\n",
    "            res2 = cur.fetchall()\n",
    "            res2 = list(set(res2))\n",
    "            cur.execute(\"select pos, singular, cow from words where word = '%s'\" % lst[i + 2])\n",
    "            res3 = cur.fetchall()\n",
    "            res3 = list(set(res3))\n",
    "            if len(res1) > 0:\n",
    "                for i1 in res1:\n",
    "                    for i2 in res2:\n",
    "                        for i3 in res3:\n",
    "                            cur.execute(\"select ans from add3_r where prt_1 = '{}' and sing_1 = '{}' and cow_1 = '{}' and prt_2 = '{}' and sing_2 = '{}' and cow_2 = '{}' and prt_3 = '{}' and sing_3 = '{}' and cow_3 = '{}'\".format(i1[0], i1[1], i1[2], i2[0], i2[1], i2[2],i3[0], i3[1], i3[2]))\n",
    "                            res = cur.fetchall()\n",
    "                            res = list(set(res))\n",
    "                            if len(res) > 0:\n",
    "                                for r in res:\n",
    "                                    result.append(r[0])\n",
    "            result = list(set(result))\n",
    "            if len(result) > 0:\n",
    "                if 'N' in result:\n",
    "                    return ['N']\n",
    "    return result"
   ]
  },
  {
   "cell_type": "code",
   "execution_count": 14,
   "metadata": {},
   "outputs": [],
   "source": [
    "def four(lst):\n",
    "    result = []\n",
    "    for i in range(0, len(lst) - 3):\n",
    "            cur.execute(\"select pos, singular, cow from words where word = '%s'\" % lst[i])\n",
    "            res1 = cur.fetchall()\n",
    "            res1 = list(set(res1))\n",
    "            cur.execute(\"select pos, singular, cow from words where word = '%s'\" % lst[i + 1])\n",
    "            res2 = cur.fetchall()\n",
    "            res2 = list(set(res2))\n",
    "            cur.execute(\"select pos, singular, cow from words where word = '%s'\" % lst[i + 2])\n",
    "            res3 = cur.fetchall()\n",
    "            res3 = list(set(res3))\n",
    "            cur.execute(\"select pos, singular, cow from words where word = '%s'\" % lst[i + 3])\n",
    "            res4 = cur.fetchall()\n",
    "            res4 = list(set(res4))\n",
    "            if len(res1) > 0:\n",
    "                for i1 in res1:\n",
    "                    for i2 in res2:\n",
    "                        for i3 in res3:\n",
    "                            for i4 in res4:\n",
    "                                cur.execute(\"select ans from add4_r where prt_1 = '{}' and sing_1 = '{}' and cow_1 = '{}' and prt_2 = '{}' and sing_2 = '{}' and cow_2 = '{}' and prt_3 = '{}' and sing_3 = '{}' and cow_3 = '{}' and prt_4 = '{}' and sing_4 = '{}' and cow_4 = '{}'\".format(i1[0], i1[1], i1[2], i2[0], i2[1], i2[2],i3[0], i3[1], i3[2],i4[0], i4[1], i4[2]))\n",
    "                                res = cur.fetchall()\n",
    "                                res = list(set(res))\n",
    "                                if len(res) > 0:\n",
    "                                    for r in res:\n",
    "                                        result.append(r[0])\n",
    "            result = list(set(result))\n",
    "            if len(result) > 0:\n",
    "                if 'N' in result:\n",
    "                    return ['N']\n",
    "    return result"
   ]
  },
  {
   "cell_type": "code",
   "execution_count": 20,
   "metadata": {},
   "outputs": [],
   "source": [
    "def run(str1):\n",
    "    str1 = str1.lower()\n",
    "    lst = comma(space(str1)) # делаем строку списком\n",
    "    res = []\n",
    "    if len(lst) > 3:\n",
    "        res = res + four(lst)\n",
    "    if len(lst) > 2:\n",
    "        res = res + three(lst)\n",
    "    if len(lst) > 1:\n",
    "        res  = res + two(lst)\n",
    "    print(res)\n",
    "    res = list(set(res))\n",
    "    print(res)"
   ]
  },
  {
   "cell_type": "code",
   "execution_count": 21,
   "metadata": {},
   "outputs": [
    {
     "name": "stdout",
     "output_type": "stream",
     "text": [
      "['Y', 'Y']\n",
      "['Y']\n"
     ]
    }
   ],
   "source": [
    "run(\"Он хотел пить\")"
   ]
  },
  {
   "cell_type": "code",
   "execution_count": 22,
   "metadata": {},
   "outputs": [
    {
     "name": "stdout",
     "output_type": "stream",
     "text": [
      "['N', 'Y', 'Y']\n",
      "['Y', 'N']\n"
     ]
    }
   ],
   "source": [
    "run(\"он руки моют\")"
   ]
  },
  {
   "cell_type": "code",
   "execution_count": 23,
   "metadata": {
    "scrolled": true
   },
   "outputs": [
    {
     "name": "stdout",
     "output_type": "stream",
     "text": [
      "[('6', ' ', ' '), ('5', 'N', ' '), ('5', 'Y', ' '), ('g', ' ', ' ')]\n",
      "[('6', ' ', ' ')]\n",
      "['Y', 'Y', 'E', 'E', 'Y', 'Y']\n",
      "['Y', 'E']\n"
     ]
    }
   ],
   "source": [
    "run(\"Он хотел пить, есть и танцевать\")"
   ]
  },
  {
   "cell_type": "code",
   "execution_count": 24,
   "metadata": {},
   "outputs": [],
   "source": [
    "myconnection.close()"
   ]
  }
 ],
 "metadata": {
  "kernelspec": {
   "display_name": "Python 3",
   "language": "python",
   "name": "python3"
  },
  "language_info": {
   "codemirror_mode": {
    "name": "ipython",
    "version": 3
   },
   "file_extension": ".py",
   "mimetype": "text/x-python",
   "name": "python",
   "nbconvert_exporter": "python",
   "pygments_lexer": "ipython3",
   "version": "3.6.4"
  }
 },
 "nbformat": 4,
 "nbformat_minor": 2
}

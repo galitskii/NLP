{
 "cells": [
  {
   "cell_type": "markdown",
   "metadata": {},
   "source": [
    "*Работа с базой данных*"
   ]
  },
  {
   "cell_type": "code",
   "execution_count": 1,
   "metadata": {},
   "outputs": [],
   "source": [
    "# https://oracle.github.io/python-cx_Oracle/\n",
    "import cx_Oracle"
   ]
  },
  {
   "cell_type": "code",
   "execution_count": 10,
   "metadata": {},
   "outputs": [],
   "source": [
    "myconnection = cx_Oracle.connect('lexis/lexis@93.175.29.93/mipt')"
   ]
  },
  {
   "cell_type": "code",
   "execution_count": 11,
   "metadata": {},
   "outputs": [],
   "source": [
    "cur = myconnection.cursor()"
   ]
  },
  {
   "cell_type": "code",
   "execution_count": 12,
   "metadata": {},
   "outputs": [
    {
     "data": {
      "text/plain": [
       "<cx_Oracle.Cursor on <cx_Oracle.Connection to lexis@93.175.29.93/mipt>>"
      ]
     },
     "execution_count": 12,
     "metadata": {},
     "output_type": "execute_result"
    }
   ],
   "source": [
    "cur.execute(\"SELECT * FROM CASE_OF_WORD\")"
   ]
  },
  {
   "cell_type": "code",
   "execution_count": 13,
   "metadata": {},
   "outputs": [],
   "source": [
    " rows = cur.fetchall()"
   ]
  },
  {
   "cell_type": "code",
   "execution_count": 14,
   "metadata": {},
   "outputs": [
    {
     "name": "stdout",
     "output_type": "stream",
     "text": [
      "  неопределено\n",
      "1 именительный\n",
      "2 родительный\n",
      "3 дательный\n",
      "4 винительный\n",
      "5 творительный\n",
      "6 предложный\n",
      "7 звательный\n",
      "8 второй родительный\n",
      "9 второй винительный\n",
      "0 второй предложный\n"
     ]
    }
   ],
   "source": [
    "for row in rows:\n",
    "        print(\"{0} {1}\".format(row[0], row[1]))"
   ]
  },
  {
   "cell_type": "code",
   "execution_count": 15,
   "metadata": {},
   "outputs": [],
   "source": [
    "myconnection.close()"
   ]
  },
  {
   "cell_type": "markdown",
   "metadata": {},
   "source": [
    "# токенайзер"
   ]
  },
  {
   "cell_type": "code",
   "execution_count": 20,
   "metadata": {},
   "outputs": [],
   "source": [
    "import re\n",
    "split_sent = re.compile(r'[.|!|?|…|?!]')\n",
    "split_w = re.compile('([^\\w_-]|[+])', re.U)\n",
    "\n",
    "def simple_sent_tokenize(text):\n",
    "    sent = []\n",
    "    sentences = filter(lambda t: t, [t.strip() for t in split_sent.split(text)])\n",
    "    for s in sentences:\n",
    "        sent.append(s)\n",
    "    return sent\n",
    "\n",
    "def simple_word_tokenize(text):\n",
    "    return [t for t in split_w.split(text) if t and not t.isspace() and t is not ',' and t is not '«' and t is not '»']\n",
    "\n",
    "def s_words_tokenize(text):\n",
    "    t = []\n",
    "    for i in text:\n",
    "        t.extend(simple_word_tokenize(i))\n",
    "    t = list(set(t))\n",
    "    return t"
   ]
  },
  {
   "cell_type": "code",
   "execution_count": 21,
   "metadata": {},
   "outputs": [],
   "source": [
    "text = '''Министерство иностранных дел Азербайджана заявило, что российский вертолет сбили азербайджанские военные. Это произошло «в свете напряженной обстановки в регионе и повышенной боевой готовности в связи с возможными провокациями армянской стороны», сообщило ведомство.\n",
    "\n",
    "В МИДе пояснили, что полет вертолета проходил в непосредственной близости от армяно-азербайджанской границы на фоне продолжающихся военных действий в Нагорном Карабахе. Также в Баку отметили, что вертолет летел в темное время суток и что воздушная техника ВВС России ранее не была замечена в этом районе.\n",
    "\n",
    "Азербайджан «приносит извинения российской стороне в связи с данным трагическим инцидентом, который носит характер случайности». Баку также выразил соболезнования семьям погибших и пожелал скорейшего выздоровления пострадавшему. Азербайджан?!'''"
   ]
  },
  {
   "cell_type": "code",
   "execution_count": 22,
   "metadata": {},
   "outputs": [
    {
     "name": "stdout",
     "output_type": "stream",
     "text": [
      "Министерство иностранных дел Азербайджана заявило, что российский вертолет сбили азербайджанские военные. Это произошло «в свете напряженной обстановки в регионе и повышенной боевой готовности в связи с возможными провокациями армянской стороны», сообщило ведомство.\n",
      "\n",
      "В МИДе пояснили, что полет вертолета проходил в непосредственной близости от армяно-азербайджанской границы на фоне продолжающихся военных действий в Нагорном Карабахе. Также в Баку отметили, что вертолет летел в темное время суток и что воздушная техника ВВС России ранее не была замечена в этом районе.\n",
      "\n",
      "Азербайджан «приносит извинения российской стороне в связи с данным трагическим инцидентом, который носит характер случайности». Баку также выразил соболезнования семьям погибших и пожелал скорейшего выздоровления пострадавшему. Азербайджан?!\n"
     ]
    }
   ],
   "source": [
    "print(text)"
   ]
  },
  {
   "cell_type": "code",
   "execution_count": 23,
   "metadata": {},
   "outputs": [],
   "source": [
    "text = text.lower()"
   ]
  },
  {
   "cell_type": "code",
   "execution_count": 24,
   "metadata": {},
   "outputs": [
    {
     "name": "stdout",
     "output_type": "stream",
     "text": [
      "министерство иностранных дел азербайджана заявило, что российский вертолет сбили азербайджанские военные. это произошло «в свете напряженной обстановки в регионе и повышенной боевой готовности в связи с возможными провокациями армянской стороны», сообщило ведомство.\n",
      "\n",
      "в миде пояснили, что полет вертолета проходил в непосредственной близости от армяно-азербайджанской границы на фоне продолжающихся военных действий в нагорном карабахе. также в баку отметили, что вертолет летел в темное время суток и что воздушная техника ввс россии ранее не была замечена в этом районе.\n",
      "\n",
      "азербайджан «приносит извинения российской стороне в связи с данным трагическим инцидентом, который носит характер случайности». баку также выразил соболезнования семьям погибших и пожелал скорейшего выздоровления пострадавшему. азербайджан?!\n"
     ]
    }
   ],
   "source": [
    "print(text)"
   ]
  },
  {
   "cell_type": "code",
   "execution_count": 25,
   "metadata": {
    "scrolled": true
   },
   "outputs": [],
   "source": [
    "sent = simple_sent_tokenize(text)"
   ]
  },
  {
   "cell_type": "code",
   "execution_count": 26,
   "metadata": {},
   "outputs": [
    {
     "name": "stdout",
     "output_type": "stream",
     "text": [
      "['министерство иностранных дел азербайджана заявило, что российский вертолет сбили азербайджанские военные', 'это произошло «в свете напряженной обстановки в регионе и повышенной боевой готовности в связи с возможными провокациями армянской стороны», сообщило ведомство', 'в миде пояснили, что полет вертолета проходил в непосредственной близости от армяно-азербайджанской границы на фоне продолжающихся военных действий в нагорном карабахе', 'также в баку отметили, что вертолет летел в темное время суток и что воздушная техника ввс россии ранее не была замечена в этом районе', 'азербайджан «приносит извинения российской стороне в связи с данным трагическим инцидентом, который носит характер случайности»', 'баку также выразил соболезнования семьям погибших и пожелал скорейшего выздоровления пострадавшему', 'азербайджан']\n"
     ]
    }
   ],
   "source": [
    "print(sent)"
   ]
  },
  {
   "cell_type": "code",
   "execution_count": 27,
   "metadata": {
    "scrolled": true
   },
   "outputs": [],
   "source": [
    "words = s_words_tokenize(sent)"
   ]
  },
  {
   "cell_type": "code",
   "execution_count": 28,
   "metadata": {},
   "outputs": [
    {
     "name": "stdout",
     "output_type": "stream",
     "text": [
      "['российский', 'продолжающихся', 'выразил', 'районе', 'погибших', 'обстановки', 'азербайджан', 'российской', 'заявило', 'сообщило', 'от', 'границы', 'приносит', 'произошло', 'с', 'соболезнования', 'замечена', 'ранее', 'случайности', 'нагорном', 'извинения', 'пояснили', 'министерство', 'непосредственной', 'провокациями', 'который', 'иностранных', 'повышенной', 'отметили', 'также', 'трагическим', 'регионе', 'в', 'пожелал', 'техника', 'близости', 'армяно-азербайджанской', 'карабахе', 'это', 'вертолет', 'летел', 'темное', 'россии', 'действий', 'суток', 'носит', 'сбили', 'выздоровления', 'скорейшего', 'дел', 'свете', 'боевой', 'на', 'семьям', 'стороны', 'инцидентом', 'пострадавшему', 'азербайджана', 'военных', 'и', 'миде', 'возможными', 'ввс', 'фоне', 'была', 'проходил', 'этом', 'данным', 'готовности', 'что', 'армянской', 'военные', 'ведомство', 'не', 'полет', 'напряженной', 'характер', 'время', 'стороне', 'баку', 'воздушная', 'вертолета', 'связи', 'азербайджанские']\n",
      "Количество слов в списке =  84\n"
     ]
    }
   ],
   "source": [
    "print(words)\n",
    "print(\"Количество слов в списке = \", len(words))"
   ]
  },
  {
   "cell_type": "markdown",
   "metadata": {},
   "source": [
    "# алгоритм"
   ]
  },
  {
   "cell_type": "code",
   "execution_count": 6,
   "metadata": {},
   "outputs": [],
   "source": [
    "import cx_Oracle\n"
   ]
  },
  {
   "cell_type": "code",
   "execution_count": 7,
   "metadata": {},
   "outputs": [],
   "source": [
    "myconnection = cx_Oracle.connect('lexis/lexis@93.175.29.93/mipt')"
   ]
  },
  {
   "cell_type": "code",
   "execution_count": 14,
   "metadata": {},
   "outputs": [],
   "source": [
    "cur = myconnection.cursor()"
   ]
  },
  {
   "cell_type": "code",
   "execution_count": 15,
   "metadata": {},
   "outputs": [
    {
     "data": {
      "text/plain": [
       "<cx_Oracle.Cursor on <cx_Oracle.Connection to lexis@93.175.29.93/mipt>>"
      ]
     },
     "execution_count": 15,
     "metadata": {},
     "output_type": "execute_result"
    }
   ],
   "source": [
    "cur.execute(\"SELECT * FROM new_words\")"
   ]
  },
  {
   "cell_type": "code",
   "execution_count": 18,
   "metadata": {},
   "outputs": [
    {
     "name": "stdout",
     "output_type": "stream",
     "text": [
      "<class 'cx_Oracle.Cursor'>\n"
     ]
    }
   ],
   "source": [
    "print(type(cur))"
   ]
  },
  {
   "cell_type": "code",
   "execution_count": 12,
   "metadata": {},
   "outputs": [],
   "source": [
    "rows = cur.fetchall()"
   ]
  },
  {
   "cell_type": "code",
   "execution_count": 17,
   "metadata": {},
   "outputs": [
    {
     "name": "stdout",
     "output_type": "stream",
     "text": [
      "<class 'list'>\n"
     ]
    }
   ],
   "source": [
    "print(type(rows))"
   ]
  },
  {
   "cell_type": "code",
   "execution_count": 16,
   "metadata": {},
   "outputs": [],
   "source": [
    "for row in rows:\n",
    "        print(\"{0} {1}\".format(row[0], row[1]))"
   ]
  },
  {
   "cell_type": "code",
   "execution_count": 19,
   "metadata": {},
   "outputs": [],
   "source": [
    "myconnection.close()"
   ]
  },
  {
   "cell_type": "markdown",
   "metadata": {},
   "source": [
    "# HTML"
   ]
  },
  {
   "cell_type": "code",
   "execution_count": 90,
   "metadata": {},
   "outputs": [],
   "source": [
    "# библиотеки для запросов\n",
    "import requests as req\n",
    "from urllib.request import urlopen\n",
    "from lxml import etree"
   ]
  },
  {
   "cell_type": "code",
   "execution_count": 64,
   "metadata": {},
   "outputs": [],
   "source": [
    "# веб-страница\n",
    "url = 'https://news.mail.ru/economics/44178288/?frommail=1'"
   ]
  },
  {
   "cell_type": "code",
   "execution_count": 46,
   "metadata": {},
   "outputs": [],
   "source": [
    "headers = {'Content-Type': 'text/html',}"
   ]
  },
  {
   "cell_type": "code",
   "execution_count": 47,
   "metadata": {},
   "outputs": [],
   "source": [
    "reqs = req.get(url, headers=headers)"
   ]
  },
  {
   "cell_type": "code",
   "execution_count": 48,
   "metadata": {},
   "outputs": [],
   "source": [
    "html = reqs.text"
   ]
  },
  {
   "cell_type": "code",
   "execution_count": 49,
   "metadata": {},
   "outputs": [],
   "source": [
    "with open ('req', 'w', encoding='utf-8') as f:\n",
    "    f.write(html)"
   ]
  },
  {
   "cell_type": "code",
   "execution_count": 69,
   "metadata": {},
   "outputs": [],
   "source": [
    "f.close()"
   ]
  },
  {
   "cell_type": "code",
   "execution_count": 50,
   "metadata": {},
   "outputs": [],
   "source": [
    "from bs4 import BeautifulSoup"
   ]
  },
  {
   "cell_type": "code",
   "execution_count": 83,
   "metadata": {},
   "outputs": [],
   "source": [
    "# пример работы с html\n",
    "\n",
    "soup = BeautifulSoup(\"<p>Some<b>bad<i>HTML\", \"lxml\")"
   ]
  },
  {
   "cell_type": "code",
   "execution_count": 79,
   "metadata": {},
   "outputs": [
    {
     "name": "stdout",
     "output_type": "stream",
     "text": [
      "<html>\n",
      " <body>\n",
      "  <p>\n",
      "   Some\n",
      "   <b>\n",
      "    bad\n",
      "    <i>\n",
      "     HTML\n",
      "    </i>\n",
      "   </b>\n",
      "  </p>\n",
      " </body>\n",
      "</html>\n"
     ]
    }
   ],
   "source": [
    "# печать с абзацами\n",
    "\n",
    "print(soup.prettify())"
   ]
  },
  {
   "cell_type": "code",
   "execution_count": 53,
   "metadata": {},
   "outputs": [
    {
     "data": {
      "text/plain": [
       "'bad'"
      ]
     },
     "execution_count": 53,
     "metadata": {},
     "output_type": "execute_result"
    }
   ],
   "source": [
    "soup.find(text=\"bad\")"
   ]
  },
  {
   "cell_type": "code",
   "execution_count": 73,
   "metadata": {},
   "outputs": [
    {
     "data": {
      "text/plain": [
       "<p>Some<b>bad<i>HTML</i></b></p>"
      ]
     },
     "execution_count": 73,
     "metadata": {},
     "output_type": "execute_result"
    }
   ],
   "source": [
    "soup.p"
   ]
  },
  {
   "cell_type": "code",
   "execution_count": 74,
   "metadata": {},
   "outputs": [],
   "source": [
    "soup = BeautifulSoup(\"<tag1>Some<tag2/>bad<tag3>XML\", \"xml\")"
   ]
  },
  {
   "cell_type": "code",
   "execution_count": 75,
   "metadata": {},
   "outputs": [
    {
     "name": "stdout",
     "output_type": "stream",
     "text": [
      "<?xml version=\"1.0\" encoding=\"utf-8\"?>\n",
      "<tag1>\n",
      " Some\n",
      " <tag2/>\n",
      " bad\n",
      " <tag3>\n",
      "  XML\n",
      " </tag3>\n",
      "</tag1>\n"
     ]
    }
   ],
   "source": [
    "print(soup.prettify())"
   ]
  },
  {
   "cell_type": "code",
   "execution_count": 80,
   "metadata": {},
   "outputs": [
    {
     "name": "stdout",
     "output_type": "stream",
     "text": [
      "html\n",
      "body\n",
      "p\n",
      "b\n",
      "i\n"
     ]
    }
   ],
   "source": [
    "for child in soup.recursiveChildGenerator():\n",
    "    if child.name:\n",
    "        print(child.name)"
   ]
  },
  {
   "cell_type": "code",
   "execution_count": 85,
   "metadata": {},
   "outputs": [],
   "source": [
    "root = soup.p"
   ]
  },
  {
   "cell_type": "code",
   "execution_count": 87,
   "metadata": {},
   "outputs": [
    {
     "name": "stdout",
     "output_type": "stream",
     "text": [
      "['b']\n"
     ]
    }
   ],
   "source": [
    "# ищем потомков root\n",
    "root_childs = [e.name for e in root.children if e.name is not None]\n",
    "print(root_childs)"
   ]
  },
  {
   "cell_type": "code",
   "execution_count": 88,
   "metadata": {},
   "outputs": [
    {
     "name": "stdout",
     "output_type": "stream",
     "text": [
      "['p', 'b', 'i']\n"
     ]
    }
   ],
   "source": [
    "# получаем всех потомков\n",
    "root = soup.body\n",
    "root_childs = [e.name for e in root.descendants if e.name is not None]\n",
    "print(root_childs)"
   ]
  },
  {
   "cell_type": "code",
   "execution_count": 89,
   "metadata": {},
   "outputs": [],
   "source": [
    "# веб-страница\n",
    "url = 'https://news.mail.ru/economics/44178288/?frommail=1'"
   ]
  },
  {
   "cell_type": "code",
   "execution_count": 91,
   "metadata": {},
   "outputs": [],
   "source": [
    "reqs = req.get(url)"
   ]
  },
  {
   "cell_type": "code",
   "execution_count": 98,
   "metadata": {},
   "outputs": [
    {
     "name": "stdout",
     "output_type": "stream",
     "text": [
      "<title>Аналитики заявили о завершении здорового роста кредитования в России - Новости Mail.ru</title>\n",
      "Аналитики заявили о завершении здорового роста кредитования в России - Новости Mail.ru\n"
     ]
    }
   ],
   "source": [
    "soup = BeautifulSoup(reqs.text, 'lxml')\n",
    "print(soup.title)\n",
    "print(soup.title.text)\n",
    "# print(soup.title.parent)"
   ]
  }
 ],
 "metadata": {
  "kernelspec": {
   "display_name": "Python 3",
   "language": "python",
   "name": "python3"
  },
  "language_info": {
   "codemirror_mode": {
    "name": "ipython",
    "version": 3
   },
   "file_extension": ".py",
   "mimetype": "text/x-python",
   "name": "python",
   "nbconvert_exporter": "python",
   "pygments_lexer": "ipython3",
   "version": "3.6.4"
  }
 },
 "nbformat": 4,
 "nbformat_minor": 2
}

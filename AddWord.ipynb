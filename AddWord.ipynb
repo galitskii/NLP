{
 "cells": [
  {
   "cell_type": "code",
   "execution_count": 30,
   "metadata": {},
   "outputs": [],
   "source": [
    "import pymorphy2\n",
    "morph = pymorphy2.MorphAnalyzer()"
   ]
  },
  {
   "cell_type": "code",
   "execution_count": 42,
   "metadata": {},
   "outputs": [],
   "source": [
    "def new_w(word):\n",
    "    p = morph.parse(word)\n",
    "    res = list()\n",
    "    for i in range(len(p)):\n",
    "        pos = p[i].tag.POS # часть речи\n",
    "        if pos == \"VERB\":\n",
    "            pos = '5'\n",
    "        elif pos == \"NOUN\":\n",
    "            pos = '1'\n",
    "        elif pos == \"ADJF\":\n",
    "            pos = '2'\n",
    "        elif pos == \"ADJS\":\n",
    "            pos = '3'\n",
    "        elif pos == \"COMP\":\n",
    "            pos = '4'\n",
    "        elif pos == \"INFN\":\n",
    "            pos = '6'\n",
    "        elif pos == \"PRTF\":\n",
    "            pos = '7'\n",
    "        elif pos == \"PRTS\":\n",
    "            pos = '8'\n",
    "        elif pos == \"GRND\":\n",
    "            pos = '9'\n",
    "        elif pos == \"NUMR\":\n",
    "            pos = '0'\n",
    "        elif pos == \"ADVB\":\n",
    "            pos = 'a'\n",
    "        elif pos == \"NPRO\":\n",
    "            pos = 'b'\n",
    "        elif pos == \"PRED\":\n",
    "            pos = 'c'\n",
    "        elif pos == \"PREP\":\n",
    "            pos = 'd'\n",
    "        elif pos == \"CONJ\":\n",
    "            pos = 'e'\n",
    "        elif pos == \"PRCL\":\n",
    "            pos = 'f'\n",
    "        elif pos == \"INTJ\":\n",
    "            pos = 'g'\n",
    "        else:\n",
    "            pos = ''\n",
    "        singular = p[i].tag.number # число\n",
    "        if singular == \"sing\":\n",
    "            singular = 'Y'\n",
    "        elif singular == \"plur\":\n",
    "            singular = 'N'\n",
    "        else:\n",
    "            singular = ''\n",
    "        kind = p[i].tag.gender # род\n",
    "        if kind == \"femn\":\n",
    "            kind = 'F'\n",
    "        elif kind == \"masc\":\n",
    "            kind = 'M'\n",
    "        elif kind == \"neut\":\n",
    "            kind = 'N'\n",
    "        else:\n",
    "            kind = ''\n",
    "        cow = p[i].tag.case # падеж\n",
    "        if cow == \"nomn\":\n",
    "            cow = '1'\n",
    "        elif cow == \"gent\":\n",
    "            cow = '2'\n",
    "        elif cow == \"datv\":\n",
    "            cow = '3'\n",
    "        elif cow == \"accs\":\n",
    "            cow = '4'\n",
    "        elif cow == \"ablt\":\n",
    "            cow = '5'\n",
    "        elif cow == \"loct\":\n",
    "            cow = '6'\n",
    "        elif cow == \"voct\":\n",
    "            cow = '7'\n",
    "        elif cow == \"gen2\":\n",
    "            cow = '8'\n",
    "        elif cow == \"acc2\":\n",
    "            cow = '9'\n",
    "        elif cow == \"loc2\":\n",
    "            cow = '0'\n",
    "        else:\n",
    "            cow = ''\n",
    "        tense =  p[i].tag.tense # время\n",
    "        if tense == \"past\":\n",
    "            tense = 'P'\n",
    "        elif tense == \"pres\":\n",
    "            tense =  'C'\n",
    "        elif tense == \"futr\":\n",
    "            tense = 'F'\n",
    "        else:\n",
    "            tense = ''\n",
    "        animal = p[i].tag.animacy # одушевлённость \n",
    "        if animal == \"anim\":\n",
    "            animal = 'Y'\n",
    "        elif animal == \"inan\":\n",
    "            animal = 'N'\n",
    "        else:\n",
    "            animal = ''\n",
    "        person = p[i].tag.person # лицо\n",
    "        if person == \"1per\":\n",
    "            person = '1'\n",
    "        elif person == \"2per\":\n",
    "            person = '2'\n",
    "        elif person == \"3per\":\n",
    "            person = '3'\n",
    "        else:\n",
    "            person = ''\n",
    "        perf = p[i].tag.aspect # вид\n",
    "        if perf == \"perf\":\n",
    "            perf = 'Y'\n",
    "        elif perf == \"impf\":\n",
    "            perf = 'N'\n",
    "        else:\n",
    "            perf = ''\n",
    "        main = p[i].normal_form        \n",
    "        l = (p[i].word, pos, singular, kind, cow, tense, animal, person, perf, main)\n",
    "        res.append(l)\n",
    "    return res"
   ]
  },
  {
   "cell_type": "code",
   "execution_count": 166,
   "metadata": {},
   "outputs": [
    {
     "data": {
      "text/plain": [
       "[Parse(word='сели', tag=OpencorporaTag('NOUN,inan,masc plur,nomn'), normal_form='сель', score=0.4, methods_stack=((DictionaryAnalyzer(), 'сели', 92, 6),)),\n",
       " Parse(word='сели', tag=OpencorporaTag('VERB,perf,intr plur,past,indc'), normal_form='сесть', score=0.2, methods_stack=((DictionaryAnalyzer(), 'сели', 943, 4),)),\n",
       " Parse(word='сели', tag=OpencorporaTag('NOUN,inan,masc plur,accs'), normal_form='сель', score=0.2, methods_stack=((DictionaryAnalyzer(), 'сели', 92, 9),)),\n",
       " Parse(word='сели', tag=OpencorporaTag('VERB,impf,tran sing,impr,excl'), normal_form='селить', score=0.2, methods_stack=((DictionaryAnalyzer(), 'сели', 415, 11),))]"
      ]
     },
     "execution_count": 166,
     "metadata": {},
     "output_type": "execute_result"
    }
   ],
   "source": [
    "morph.parse('сели')"
   ]
  },
  {
   "cell_type": "code",
   "execution_count": 43,
   "metadata": {
    "scrolled": true
   },
   "outputs": [
    {
     "name": "stdout",
     "output_type": "stream",
     "text": [
      "[('сели', '1', 'N', 'M', '1', '', 'N', '', '', 'сель'), ('сели', '5', 'N', '', '', 'P', '', '', 'Y', 'сесть'), ('сели', '1', 'N', 'M', '4', '', 'N', '', '', 'сель'), ('сели', '5', 'Y', '', '', '', '', '', 'N', 'селить')]\n"
     ]
    }
   ],
   "source": [
    "print(new_w('сели'))"
   ]
  },
  {
   "cell_type": "code",
   "execution_count": 108,
   "metadata": {},
   "outputs": [],
   "source": [
    "import mysql.connector\n",
    "from mysql.connector import Error"
   ]
  },
  {
   "cell_type": "code",
   "execution_count": 153,
   "metadata": {},
   "outputs": [],
   "source": [
    "conn = mysql.connector.connect(host='localhost', user='lexis', password='lexis', database = 'lexis')"
   ]
  },
  {
   "cell_type": "code",
   "execution_count": 154,
   "metadata": {},
   "outputs": [],
   "source": [
    "cur = conn.cursor()"
   ]
  },
  {
   "cell_type": "code",
   "execution_count": 155,
   "metadata": {},
   "outputs": [],
   "source": [
    "cur.execute(\"select * from words_q\")"
   ]
  },
  {
   "cell_type": "code",
   "execution_count": 156,
   "metadata": {},
   "outputs": [],
   "source": [
    "a = cur.fetchall()"
   ]
  },
  {
   "cell_type": "code",
   "execution_count": 157,
   "metadata": {},
   "outputs": [
    {
     "name": "stdout",
     "output_type": "stream",
     "text": [
      "[('игра', 1, 0, '1', 'Y', '1', 'F', '', '', 'N', ''), ('делать', 2, 0, '6', '', '', '', '', '', '', 'N'), ('ссылка', 3, 0, '1', 'Y', '1', 'F', '', '', 'N', '')]\n"
     ]
    }
   ],
   "source": [
    "print(a)"
   ]
  },
  {
   "cell_type": "code",
   "execution_count": 158,
   "metadata": {},
   "outputs": [],
   "source": [
    "def add_w(word):\n",
    "    for w in new_w(word):\n",
    "        cur.execute(\"select * from words_q where word = '{}'\".format(w[9]))\n",
    "        rows = cur.fetchall()\n",
    "        print(len(rows))\n",
    "        if len(rows) == 0:\n",
    "            cur.execute(\"select max(mid) from words_q\")\n",
    "            num = cur.fetchall()\n",
    "            if not (num[0][0]):\n",
    "                num = 1\n",
    "            else:\n",
    "                num = int(num[0][0]) + 1\n",
    "            cur.execute(\"insert into words_q(word, mid, fid, pos, singular, kind, cow, tense, animal, person, perf) values ('{}', '{}', '{}', '{}', '{}', '{}', '{}', '{}', '{}', '{}', '{}')\".format(w[0], num, 0, w[1], w[2], w[3], w[4], w[5], w[6], w[7], w[8]))\n",
    "        else:            \n",
    "            for m in rows:\n",
    "                print(m)\n",
    "                cur.execute(\"select * from words_q where word = '{}'\".format(word))\n",
    "                print(m[0])\n",
    "                q = cur.fetchall()\n",
    "                q = set(q)\n",
    "                if m in q:\n",
    "                    print(\"Exist\")\n",
    "                else:\n",
    "                    cur.execute(\"select mid from words_q where word = '{}'\".format(w[9]))\n",
    "                    mid = cur.fetchall()\n",
    "                    cur.execute(\"select count(*) from words_q where pos = '{}'\".format('6'))\n",
    "                    print(mid)"
   ]
  },
  {
   "cell_type": "code",
   "execution_count": 147,
   "metadata": {},
   "outputs": [],
   "source": [
    "conn.commit()"
   ]
  },
  {
   "cell_type": "code",
   "execution_count": 160,
   "metadata": {},
   "outputs": [],
   "source": [
    "conn.close()"
   ]
  }
 ],
 "metadata": {
  "kernelspec": {
   "display_name": "Python 3",
   "language": "python",
   "name": "python3"
  },
  "language_info": {
   "codemirror_mode": {
    "name": "ipython",
    "version": 3
   },
   "file_extension": ".py",
   "mimetype": "text/x-python",
   "name": "python",
   "nbconvert_exporter": "python",
   "pygments_lexer": "ipython3",
   "version": "3.6.4"
  }
 },
 "nbformat": 4,
 "nbformat_minor": 2
}

{
 "cells": [
  {
   "cell_type": "code",
   "execution_count": 3,
   "metadata": {},
   "outputs": [],
   "source": [
    "import pymorphy2\n",
    "morph = pymorphy2.MorphAnalyzer()"
   ]
  },
  {
   "cell_type": "code",
   "execution_count": 92,
   "metadata": {},
   "outputs": [],
   "source": [
    "def new_w(word):\n",
    "    p = morph.parse(word)\n",
    "    print(len(p))\n",
    "    for i in range(len(p)):\n",
    "        pos = p[i].tag.POS\n",
    "        if pos == \"VERB\":\n",
    "            pos = '5'\n",
    "        elif pos == \"NOUN\":\n",
    "            pos = '1'\n",
    "        elif pos == \"ADJF\":\n",
    "            pos = '2'\n",
    "        elif pos == \"ADJS\":\n",
    "            pos = '3'\n",
    "        elif pos == \"COMP\":\n",
    "            pos = '4'\n",
    "        elif pos == \"INFN\":\n",
    "            pos = '6'\n",
    "        elif pos == \"PRTF\":\n",
    "            pos = '7'\n",
    "        elif pos == \"PRTS\":\n",
    "            pos = '8'\n",
    "        elif pos == \"GRND\":\n",
    "            pos = '9'\n",
    "        elif pos == \"NUMR\":\n",
    "            pos = '0'\n",
    "        elif pos == \"ADVB\":\n",
    "            pos = 'a'\n",
    "        elif pos == \"NPRO\":\n",
    "            pos = 'b'\n",
    "        elif pos == \"PRED\":\n",
    "            pos = 'c'\n",
    "        elif pos == \"PREP\":\n",
    "            pos = 'd'\n",
    "        elif pos == \"CONJ\":\n",
    "            pos = 'e'\n",
    "        elif pos == \"PRCL\":\n",
    "            pos = 'f'\n",
    "        elif pos == \"INTJ\":\n",
    "            pos = 'g'\n",
    "        else:\n",
    "            pos = ' '\n",
    "        singular = p[i].tag.number\n",
    "        if singular == \"sing\":\n",
    "            singular = 'Y'\n",
    "        elif singular == \"plur\":\n",
    "            singular = 'N'\n",
    "        else:\n",
    "            singular = ' '\n",
    "        kind = p[i].tag.gender\n",
    "        if kind == \"femn\":\n",
    "            kind = 'F'\n",
    "        elif kind == \"masc\":\n",
    "            kind = 'M'\n",
    "        elif kind == 'neut':\n",
    "            kind = 'N'\n",
    "        else:\n",
    "            kind = ' '\n",
    "        cow = p[i].tag.case\n",
    "        if cow == \"nomn\":\n",
    "            cow = '1'\n",
    "        elif cow == \"gent\":\n",
    "            cow = '2'\n",
    "        elif cow == \"datv\":\n",
    "            cow = '3'\n",
    "        elif cow == \"accs\":\n",
    "            cow = '4'\n",
    "        elif cow == \"ablt\":\n",
    "            cow = '5'\n",
    "        elif cow == \"loct\":\n",
    "            cow = '6'\n",
    "        elif cow == \"voct\":\n",
    "            cow = '7'\n",
    "        elif cow == \"gen2\":\n",
    "            cow = '8'\n",
    "        elif cow == \"acc2\":\n",
    "            cow = '9'\n",
    "        elif cow == \"loc2\":\n",
    "            cow = '0'\n",
    "        else:\n",
    "            cow = ' '\n",
    "        print(p[i].word, pos, singular, kind, cow)\n",
    "    print(p)"
   ]
  },
  {
   "cell_type": "code",
   "execution_count": 97,
   "metadata": {
    "scrolled": true
   },
   "outputs": [
    {
     "name": "stdout",
     "output_type": "stream",
     "text": [
      "1\n",
      "корова 1 Y F 1\n",
      "[Parse(word='корова', tag=OpencorporaTag('NOUN,anim,femn sing,nomn'), normal_form='корова', score=1.0, methods_stack=((DictionaryAnalyzer(), 'корова', 53, 0),))]\n"
     ]
    }
   ],
   "source": [
    "new_w('корова')"
   ]
  }
 ],
 "metadata": {
  "kernelspec": {
   "display_name": "Python 3",
   "language": "python",
   "name": "python3"
  },
  "language_info": {
   "codemirror_mode": {
    "name": "ipython",
    "version": 3
   },
   "file_extension": ".py",
   "mimetype": "text/x-python",
   "name": "python",
   "nbconvert_exporter": "python",
   "pygments_lexer": "ipython3",
   "version": "3.6.4"
  }
 },
 "nbformat": 4,
 "nbformat_minor": 2
}

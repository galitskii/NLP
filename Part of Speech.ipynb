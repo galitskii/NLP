{
 "cells": [
  {
   "cell_type": "code",
   "execution_count": 2,
   "metadata": {},
   "outputs": [],
   "source": [
    "import pymorphy2"
   ]
  },
  {
   "cell_type": "code",
   "execution_count": 3,
   "metadata": {},
   "outputs": [],
   "source": [
    "morph = pymorphy2.MorphAnalyzer()"
   ]
  },
  {
   "cell_type": "code",
   "execution_count": 4,
   "metadata": {},
   "outputs": [],
   "source": [
    "def prt_spch(word):\n",
    "    p = morph.parse(word)\n",
    "    l = []\n",
    "    for i in range(len(p)):\n",
    "        if p[i].tag.POS == 'NOUN':\n",
    "            l.append('NOUN')\n",
    "        if p[i].tag.POS == 'INFN' or p[i].tag.POS == 'VERB':\n",
    "            l.append('VERB')\n",
    "        if p[i].tag.POS == 'NPRO':\n",
    "            l.append('NPRO')\n",
    "    if len(l) == 0:\n",
    "        return ('OTHER')\n",
    "    return set(l)"
   ]
  },
  {
   "cell_type": "code",
   "execution_count": 5,
   "metadata": {},
   "outputs": [
    {
     "name": "stdout",
     "output_type": "stream",
     "text": [
      "{'NOUN'}\n"
     ]
    }
   ],
   "source": [
    "print(prt_spch(\"абвгде\"))"
   ]
  },
  {
   "cell_type": "code",
   "execution_count": 8,
   "metadata": {},
   "outputs": [
    {
     "name": "stdout",
     "output_type": "stream",
     "text": [
      "{'NOUN'}\n"
     ]
    }
   ],
   "source": [
    "print(prt_spch(\"клмноп\"))"
   ]
  },
  {
   "cell_type": "code",
   "execution_count": 11,
   "metadata": {},
   "outputs": [
    {
     "name": "stdout",
     "output_type": "stream",
     "text": [
      "{'NOUN'}\n"
     ]
    }
   ],
   "source": [
    "print(prt_spch(\"оаоаоаоаоаоии\"))"
   ]
  }
 ],
 "metadata": {
  "kernelspec": {
   "display_name": "Python 3",
   "language": "python",
   "name": "python3"
  },
  "language_info": {
   "codemirror_mode": {
    "name": "ipython",
    "version": 3
   },
   "file_extension": ".py",
   "mimetype": "text/x-python",
   "name": "python",
   "nbconvert_exporter": "python",
   "pygments_lexer": "ipython3",
   "version": "3.6.4"
  }
 },
 "nbformat": 4,
 "nbformat_minor": 2
}
